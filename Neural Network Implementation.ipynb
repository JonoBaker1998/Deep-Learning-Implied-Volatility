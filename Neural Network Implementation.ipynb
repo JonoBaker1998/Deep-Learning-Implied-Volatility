{
 "cells": [
  {
   "cell_type": "markdown",
   "id": "86c33466",
   "metadata": {},
   "source": [
    "# Neural Network Implementation\n",
    "We finally approach the neural network implementation of this paper. Now must make Train, Test Split. And find some metrics to measure on."
   ]
  },
  {
   "cell_type": "code",
   "execution_count": 359,
   "id": "d32188d4",
   "metadata": {},
   "outputs": [],
   "source": [
    "# Packages\n",
    "import numpy as np\n",
    "import pandas as pd\n",
    "import torch\n",
    "import scipy.stats as stats\n",
    "import scipy.optimize as optim\n",
    "import matplotlib.pyplot as plt\n",
    "import time\n",
    "\n",
    "import torch\n",
    "from torch import nn\n",
    "from torch.utils.data import DataLoader\n",
    "from sklearn.datasets import load_boston\n",
    "from sklearn.preprocessing import StandardScaler\n",
    "\n",
    "# All Required DataSets\n",
    "IVSurface = np.load('testSurface.pkl', allow_pickle = True)\n",
    "SP500 = np.load('SP500.pkl', allow_pickle = True)\n",
    "VIX = np.load('VIX.pkl', allow_pickle = True)"
   ]
  },
  {
   "cell_type": "code",
   "execution_count": 362,
   "id": "03b69a75",
   "metadata": {},
   "outputs": [],
   "source": [
    "mergedData = pd.merge(pd.merge(IVSurface, SP500, how = 'left', on = 'Date'), VIX, how = 'left', on = 'Date')\n",
    "mergedData = mergedData.filter(['strike', 'daysExp', 'fittedIV', 'Returns', 'VIX'])\n",
    "mergedData['IVChange'] = mergedData.fittedIV.diff(periods = 441)\n",
    "mergedData = mergedData.shift(periods = -441).dropna()\n",
    "mergedData.daysExp = mergedData.daysExp/250\n",
    "mergedData.strike = mergedData.strike ** (-1)\n",
    "mergedData.to_pickle('finalDataSet.pkl')"
   ]
  },
  {
   "cell_type": "markdown",
   "id": "760953fb",
   "metadata": {},
   "source": [
    "## Training Data and Testing Data"
   ]
  },
  {
   "cell_type": "code",
   "execution_count": 402,
   "id": "515e23b6",
   "metadata": {},
   "outputs": [],
   "source": [
    "trainSplit = 0.7\n",
    "trainInt = int(trainSplit * mergedData.shape[0])\n",
    "trainingData = mergedData.iloc[:trainInt,:]\n",
    "testData = mergedData.iloc[trainInt:,:]"
   ]
  },
  {
   "cell_type": "markdown",
   "id": "5543638b",
   "metadata": {},
   "source": [
    "## Comparison Model (Hull-White)"
   ]
  },
  {
   "cell_type": "code",
   "execution_count": 403,
   "id": "bb517de0",
   "metadata": {},
   "outputs": [],
   "source": [
    "'''Note that we use log-returns instead of simple returns due to the tractability of log returns. This differs from Hull-White'''\n",
    "class HullWhiteModel():\n",
    "    def __init__(self, a, b, c, returns, delta, timeToMaturity):\n",
    "        self.a = a\n",
    "        self.b = b\n",
    "        self.c = c\n",
    "        self.returns = returns\n",
    "        self.delta = delta\n",
    "        self.ttm = timeToMaturity\n",
    "        \n",
    "    def expected_change_delta(self):\n",
    "        returns = self.returns\n",
    "        quadraticTerm = self.a + self.b * self.delta + self.c * self.delta ** 2\n",
    "        return returns * quadraticTerm / np.sqrt(self.ttm)\n",
    "    \n",
    "def hull_white_function(X, theta):\n",
    "    moneyness = X[0,:]\n",
    "    timeToMaturity = X[1,:]\n",
    "    returns = X[2,:]\n",
    "    \n",
    "    quadraticTerm = theta[0] + theta[1] * moneyness + theta[2] * moneyness ** 2\n",
    "    return returns * quadraticTerm / np.sqrt(timeToMaturity)\n",
    "\n",
    "# Calibration Data\n",
    "yData = np.array(trainingData.IVChange).T\n",
    "xData = np.array(trainingData.filter(['strike', 'daysExp', 'Returns'])).T\n",
    "\n",
    "initValue = [0, 0, 0]\n",
    "# Parameterisation by OLS minimisation.\n",
    "funcToMin = lambda theta: np.sum(hull_white_function(xData, theta) - yData)**2\n",
    "\n",
    "hullParameters = optim.minimize(funcToMin, initValue).x"
   ]
  },
  {
   "cell_type": "code",
   "execution_count": 404,
   "id": "3686020e",
   "metadata": {},
   "outputs": [
    {
     "name": "stdout",
     "output_type": "stream",
     "text": [
      "[-0.08776002 -0.10180254 -0.12342559]\n"
     ]
    }
   ],
   "source": [
    "print(hullParameters)"
   ]
  },
  {
   "cell_type": "markdown",
   "id": "42190583",
   "metadata": {},
   "source": [
    "Sense check of the Hull-White parameters holds as volatility is increasing as time to maturity decreases, increasing with decreasing returns."
   ]
  },
  {
   "cell_type": "markdown",
   "id": "47c89906",
   "metadata": {},
   "source": [
    "## Preparing Dataloader for PyTorch"
   ]
  },
  {
   "cell_type": "code",
   "execution_count": 405,
   "id": "0ca41f60",
   "metadata": {},
   "outputs": [],
   "source": [
    "class Factor_Model_Dataloader():\n",
    "    def __init__(self, X, y, scale_data = True):\n",
    "        #if scale_data:\n",
    "            #X = StandardScaler().fit_transform(X)\n",
    "        self.X = torch.from_numpy(X)\n",
    "        self.y = torch.from_numpy(y)\n",
    "        \n",
    "    def __len__(self):\n",
    "        return len(self.X)\n",
    "    \n",
    "    def __getitem__(self, i):\n",
    "        return self.X[i], self.y[i]"
   ]
  },
  {
   "cell_type": "markdown",
   "id": "835d7f32",
   "metadata": {},
   "source": [
    "## Creating 4 Factor Neural Network"
   ]
  },
  {
   "cell_type": "code",
   "execution_count": 420,
   "id": "d84ede4d",
   "metadata": {},
   "outputs": [],
   "source": [
    "class Four_Factor_Model(nn.Module):\n",
    "    '''Multilayer Feed Forward Network for regression'''\n",
    "    def __init__(self, hiddenNodes, dropout):\n",
    "        super().__init__()\n",
    "        self.layers = nn.Sequential(\n",
    "            nn.Linear(4, hiddenNodes[0]),\n",
    "            nn.Dropout(p = dropout),\n",
    "            nn.ReLU(),\n",
    "            nn.Linear(hiddenNodes[0], hiddenNodes[1]),\n",
    "            nn.ReLU(),\n",
    "            nn.Dropout(p = dropout),\n",
    "            nn.Linear(hiddenNodes[1], hiddenNodes[2]),\n",
    "            nn.ReLU(),\n",
    "            nn.Linear(hiddenNodes[2], 1)\n",
    "        )\n",
    "        \n",
    "    def forward(self, x):\n",
    "        return self.layers(x)"
   ]
  },
  {
   "cell_type": "markdown",
   "id": "859626d6",
   "metadata": {},
   "source": [
    "## Preparing 4 Factor Dataset"
   ]
  },
  {
   "cell_type": "code",
   "execution_count": 421,
   "id": "e75f4b62",
   "metadata": {},
   "outputs": [],
   "source": [
    "[X, y] = [trainingData.filter(['strike', 'daysExp', 'Returns', 'VIX']).values,\n",
    "          trainingData.filter(['IVChange']).values]\n",
    "\n",
    "torchTrainingSet = Factor_Model_Dataloader(X, y)\n",
    "trainLoader = torch.utils.data.DataLoader(torchTrainingSet, batch_size = 512, shuffle = True, num_workers = 0)\n",
    "\n",
    "[XTest, yTest] = [testData.filter(['strike', 'daysExp', 'Returns', 'VIX']).values,\n",
    "          testData.filter(['IVChange']).values]\n",
    "\n",
    "torchTestSet = Factor_Model_Dataloader(XTest, yTest)\n",
    "testLoader = torch.utils.data.DataLoader(torchTestSet, batch_size = testData.shape[0], shuffle = True, num_workers = 0)"
   ]
  },
  {
   "cell_type": "markdown",
   "id": "a9c66eb7",
   "metadata": {},
   "source": [
    "## Choosing Loss Functions"
   ]
  },
  {
   "cell_type": "code",
   "execution_count": 422,
   "id": "6613c203",
   "metadata": {},
   "outputs": [],
   "source": [
    "four_factor_model = Four_Factor_Model([128, 64, 32], 0.25)\n",
    "loss_func = nn.MSELoss()"
   ]
  },
  {
   "cell_type": "markdown",
   "id": "7a5507bd",
   "metadata": {},
   "source": [
    "## Training Four Factor Neural Network"
   ]
  },
  {
   "cell_type": "code",
   "execution_count": 423,
   "id": "d55f61aa",
   "metadata": {
    "scrolled": true
   },
   "outputs": [
    {
     "name": "stdout",
     "output_type": "stream",
     "text": [
      "Starting epoch 1\n",
      "Starting epoch 2\n",
      "Starting epoch 3\n",
      "Starting epoch 4\n",
      "Starting epoch 5\n",
      "Starting epoch 6\n",
      "Starting epoch 7\n",
      "Starting epoch 8\n",
      "Starting epoch 9\n",
      "Starting epoch 10\n",
      "Loss after Epoch    10: 3.58681\n",
      "Training Time Epoch    10: 1.85598\n",
      "Starting epoch 11\n",
      "Starting epoch 12\n",
      "Starting epoch 13\n",
      "Starting epoch 14\n",
      "Starting epoch 15\n",
      "Starting epoch 16\n",
      "Starting epoch 17\n",
      "Starting epoch 18\n",
      "Starting epoch 19\n",
      "Starting epoch 20\n",
      "Loss after Epoch    20: 3.58836\n",
      "Training Time Epoch    20: 1.89653\n",
      "Starting epoch 21\n",
      "Starting epoch 22\n",
      "Starting epoch 23\n",
      "Starting epoch 24\n",
      "Starting epoch 25\n",
      "Starting epoch 26\n",
      "Starting epoch 27\n",
      "Starting epoch 28\n",
      "Starting epoch 29\n",
      "Starting epoch 30\n",
      "Loss after Epoch    30: 3.58574\n",
      "Training Time Epoch    30: 1.64387\n",
      "Starting epoch 31\n",
      "Starting epoch 32\n",
      "Starting epoch 33\n",
      "Starting epoch 34\n",
      "Starting epoch 35\n",
      "Starting epoch 36\n",
      "Starting epoch 37\n",
      "Starting epoch 38\n",
      "Starting epoch 39\n",
      "Starting epoch 40\n",
      "Loss after Epoch    40: 3.58700\n",
      "Training Time Epoch    40: 1.87834\n",
      "Starting epoch 41\n",
      "Starting epoch 42\n",
      "Starting epoch 43\n",
      "Starting epoch 44\n",
      "Starting epoch 45\n",
      "Starting epoch 46\n",
      "Starting epoch 47\n",
      "Starting epoch 48\n",
      "Starting epoch 49\n",
      "Starting epoch 50\n",
      "Loss after Epoch    50: 3.58642\n",
      "Training Time Epoch    50: 1.63310\n",
      "Training finished\n"
     ]
    }
   ],
   "source": [
    "epochs = 50\n",
    "opt = torch.optim.Adam(four_factor_model.parameters(), lr = 1e-3)\n",
    "\n",
    "for epoch in range(0, epochs):\n",
    "    tic = time.time()\n",
    "    currentLoss = 0.0\n",
    "    for i, data in enumerate(trainLoader, 0):\n",
    "        inputs, targets = data\n",
    "        inputs, targets = inputs.float(), targets.float()\n",
    "        targets = targets.reshape((targets.shape[0], 1))\n",
    "        \n",
    "        opt.zero_grad()\n",
    "        outputs = four_factor_model(inputs)\n",
    "        loss = loss_func(outputs, targets)\n",
    "        loss.backward()\n",
    "        opt.step()\n",
    "        currentLoss += loss.item()\n",
    "        \n",
    "    \n",
    "    if (epoch + 1) % 10 == 0:\n",
    "        print('Loss after Epoch %5d: %.5f' % (epoch+1, currentLoss))\n",
    "        current_loss = 0.0\n",
    "        toc = time.time()\n",
    "        print('Training Time Epoch %5d: %.5f' % (epoch + 1, toc - tic))\n",
    "        \n",
    "print('Training finished')"
   ]
  },
  {
   "cell_type": "code",
   "execution_count": 424,
   "id": "aecefb21",
   "metadata": {},
   "outputs": [],
   "source": [
    "for i, data in enumerate(testLoader, 0):\n",
    "    inputs, targets = data\n",
    "    inputs, targets = inputs.float(), targets.float()\n",
    "    targets = targets.reshape((targets.shape[0], 1))\n",
    "\n",
    "nn4F = four_factor_model(inputs)\n",
    "xEval = np.array(testData.filter(['strike', 'daysExp', 'Returns'])).T\n",
    "hullWhitePred = hull_white_function(xEval, hullParameters)"
   ]
  },
  {
   "cell_type": "markdown",
   "id": "8d281f10",
   "metadata": {},
   "source": [
    "# Preparing Three Factor Neural Network"
   ]
  },
  {
   "cell_type": "code",
   "execution_count": 397,
   "id": "e9867862",
   "metadata": {},
   "outputs": [],
   "source": [
    "[X, y] = [trainingData.filter(['strike', 'daysExp', 'Returns']).values,\n",
    "          trainingData.filter(['IVChange']).values]\n",
    "\n",
    "torchTrainingSet = Factor_Model_Dataloader(X, y)\n",
    "trainLoader = torch.utils.data.DataLoader(torchTrainingSet, batch_size = 512, shuffle = True, num_workers = 0)\n",
    "\n",
    "[XTest, yTest] = [testData.filter(['strike', 'daysExp', 'Returns']).values,\n",
    "          testData.filter(['IVChange']).values]\n",
    "\n",
    "torchTestSet = Factor_Model_Dataloader(XTest, yTest)\n",
    "testLoader = torch.utils.data.DataLoader(torchTestSet, batch_size = testData.shape[0], shuffle = True, num_workers = 0)"
   ]
  },
  {
   "cell_type": "code",
   "execution_count": 398,
   "id": "fbb1318a",
   "metadata": {},
   "outputs": [],
   "source": [
    "class Three_Factor_Model(nn.Module):\n",
    "    '''Multilayer Feed Forward Network for regression'''\n",
    "    def __init__(self, hiddenNodes, dropout):\n",
    "        super().__init__()\n",
    "        self.layers = nn.Sequential(\n",
    "            nn.Linear(3, hiddenNodes[0]),\n",
    "            nn.Dropout(p = dropout),\n",
    "            nn.ReLU(),\n",
    "            nn.Linear(hiddenNodes[0], hiddenNodes[1]),\n",
    "            nn.ReLU(),\n",
    "            nn.Dropout(p = dropout),\n",
    "            nn.Linear(hiddenNodes[1], hiddenNodes[2]),\n",
    "            nn.ReLU(),\n",
    "            nn.Linear(hiddenNodes[2], 1)\n",
    "        )\n",
    "        \n",
    "    def forward(self, x):\n",
    "        return self.layers(x)"
   ]
  },
  {
   "cell_type": "code",
   "execution_count": 399,
   "id": "d2706945",
   "metadata": {},
   "outputs": [
    {
     "name": "stdout",
     "output_type": "stream",
     "text": [
      "Starting epoch 1\n",
      "Loss after Epoch     1: 3.62942\n",
      "Training Time Epoch     1: 1.90744\n",
      "Starting epoch 2\n",
      "Loss after Epoch     2: 3.58940\n",
      "Training Time Epoch     2: 1.58004\n",
      "Starting epoch 3\n",
      "Loss after Epoch     3: 3.58817\n",
      "Training Time Epoch     3: 1.83430\n",
      "Starting epoch 4\n",
      "Loss after Epoch     4: 3.58573\n",
      "Training Time Epoch     4: 1.60271\n",
      "Starting epoch 5\n",
      "Loss after Epoch     5: 3.58283\n",
      "Training Time Epoch     5: 1.86800\n",
      "Starting epoch 6\n",
      "Loss after Epoch     6: 3.57423\n",
      "Training Time Epoch     6: 1.60073\n",
      "Starting epoch 7\n",
      "Loss after Epoch     7: 3.56300\n",
      "Training Time Epoch     7: 1.86253\n",
      "Starting epoch 8\n",
      "Loss after Epoch     8: 3.54430\n",
      "Training Time Epoch     8: 1.60150\n",
      "Starting epoch 9\n",
      "Loss after Epoch     9: 3.53404\n",
      "Training Time Epoch     9: 1.84258\n",
      "Starting epoch 10\n",
      "Loss after Epoch    10: 3.53115\n",
      "Training Time Epoch    10: 1.61598\n",
      "Starting epoch 11\n",
      "Loss after Epoch    11: 3.52662\n",
      "Training Time Epoch    11: 1.57334\n",
      "Starting epoch 12\n",
      "Loss after Epoch    12: 3.52558\n",
      "Training Time Epoch    12: 1.87601\n",
      "Starting epoch 13\n",
      "Loss after Epoch    13: 3.52101\n",
      "Training Time Epoch    13: 1.60263\n",
      "Starting epoch 14\n",
      "Loss after Epoch    14: 3.52136\n",
      "Training Time Epoch    14: 1.88210\n",
      "Starting epoch 15\n",
      "Loss after Epoch    15: 3.51770\n",
      "Training Time Epoch    15: 1.62694\n",
      "Starting epoch 16\n",
      "Loss after Epoch    16: 3.51775\n",
      "Training Time Epoch    16: 1.86570\n",
      "Starting epoch 17\n",
      "Loss after Epoch    17: 3.51730\n",
      "Training Time Epoch    17: 1.61167\n",
      "Starting epoch 18\n",
      "Loss after Epoch    18: 3.51689\n",
      "Training Time Epoch    18: 1.91859\n",
      "Starting epoch 19\n",
      "Loss after Epoch    19: 3.51397\n",
      "Training Time Epoch    19: 1.64677\n",
      "Starting epoch 20\n",
      "Loss after Epoch    20: 3.51439\n",
      "Training Time Epoch    20: 1.93198\n",
      "Starting epoch 21\n",
      "Loss after Epoch    21: 3.51615\n",
      "Training Time Epoch    21: 1.61683\n",
      "Starting epoch 22\n",
      "Loss after Epoch    22: 3.51309\n",
      "Training Time Epoch    22: 1.84301\n",
      "Starting epoch 23\n",
      "Loss after Epoch    23: 3.51258\n",
      "Training Time Epoch    23: 1.62427\n",
      "Starting epoch 24\n",
      "Loss after Epoch    24: 3.51339\n",
      "Training Time Epoch    24: 1.66024\n",
      "Starting epoch 25\n",
      "Loss after Epoch    25: 3.51043\n",
      "Training Time Epoch    25: 1.87390\n",
      "Starting epoch 26\n",
      "Loss after Epoch    26: 3.51055\n",
      "Training Time Epoch    26: 1.60376\n",
      "Starting epoch 27\n",
      "Loss after Epoch    27: 3.50908\n",
      "Training Time Epoch    27: 1.89336\n",
      "Starting epoch 28\n",
      "Loss after Epoch    28: 3.50943\n",
      "Training Time Epoch    28: 1.61039\n",
      "Starting epoch 29\n",
      "Loss after Epoch    29: 3.51010\n",
      "Training Time Epoch    29: 1.88264\n",
      "Starting epoch 30\n",
      "Loss after Epoch    30: 3.50710\n",
      "Training Time Epoch    30: 1.59710\n",
      "Starting epoch 31\n",
      "Loss after Epoch    31: 3.50817\n",
      "Training Time Epoch    31: 1.88160\n",
      "Starting epoch 32\n",
      "Loss after Epoch    32: 3.50933\n",
      "Training Time Epoch    32: 1.60904\n",
      "Starting epoch 33\n",
      "Loss after Epoch    33: 3.50840\n",
      "Training Time Epoch    33: 1.89544\n",
      "Starting epoch 34\n",
      "Loss after Epoch    34: 3.50614\n",
      "Training Time Epoch    34: 1.62186\n",
      "Starting epoch 35\n",
      "Loss after Epoch    35: 3.50991\n",
      "Training Time Epoch    35: 1.88830\n",
      "Starting epoch 36\n",
      "Loss after Epoch    36: 3.50806\n",
      "Training Time Epoch    36: 1.61993\n",
      "Starting epoch 37\n",
      "Loss after Epoch    37: 3.50697\n",
      "Training Time Epoch    37: 1.60718\n",
      "Starting epoch 38\n",
      "Loss after Epoch    38: 3.50696\n",
      "Training Time Epoch    38: 1.89283\n",
      "Starting epoch 39\n",
      "Loss after Epoch    39: 3.50691\n",
      "Training Time Epoch    39: 1.61453\n",
      "Starting epoch 40\n",
      "Loss after Epoch    40: 3.50618\n",
      "Training Time Epoch    40: 1.90403\n",
      "Starting epoch 41\n",
      "Loss after Epoch    41: 3.50305\n",
      "Training Time Epoch    41: 1.65556\n",
      "Starting epoch 42\n",
      "Loss after Epoch    42: 3.50475\n",
      "Training Time Epoch    42: 1.91176\n",
      "Starting epoch 43\n",
      "Loss after Epoch    43: 3.50654\n",
      "Training Time Epoch    43: 1.65748\n",
      "Starting epoch 44\n",
      "Loss after Epoch    44: 3.50412\n",
      "Training Time Epoch    44: 1.89002\n",
      "Starting epoch 45\n",
      "Loss after Epoch    45: 3.50374\n",
      "Training Time Epoch    45: 1.62373\n",
      "Starting epoch 46\n",
      "Loss after Epoch    46: 3.50524\n",
      "Training Time Epoch    46: 1.91812\n",
      "Starting epoch 47\n",
      "Loss after Epoch    47: 3.50440\n",
      "Training Time Epoch    47: 1.66775\n",
      "Starting epoch 48\n",
      "Loss after Epoch    48: 3.50393\n",
      "Training Time Epoch    48: 1.89400\n",
      "Starting epoch 49\n",
      "Loss after Epoch    49: 3.50196\n",
      "Training Time Epoch    49: 1.61821\n",
      "Starting epoch 50\n",
      "Loss after Epoch    50: 3.50363\n",
      "Training Time Epoch    50: 1.60227\n",
      "Training finished\n"
     ]
    }
   ],
   "source": [
    "three_factor_model = Three_Factor_Model([128, 64, 32], 0.25)\n",
    "epochs = 50\n",
    "opt = torch.optim.Adam(three_factor_model.parameters(), lr = 1e-3)\n",
    "\n",
    "for epoch in range(0, epochs):\n",
    "    tic = time.time()\n",
    "    currentLoss = 0.0\n",
    "    for i, data in enumerate(trainLoader, 0):\n",
    "        inputs, targets = data\n",
    "        inputs, targets = inputs.float(), targets.float()\n",
    "        targets = targets.reshape((targets.shape[0], 1))\n",
    "        \n",
    "        opt.zero_grad()\n",
    "        outputs = three_factor_model(inputs)\n",
    "        loss = loss_func(outputs, targets)\n",
    "        loss.backward()\n",
    "        opt.step()\n",
    "        currentLoss += loss.item()\n",
    "        \n",
    "    if (epoch + 1) % 10 == 0:\n",
    "        print('Loss after Epoch %5d: %.5f' % (epoch+1, currentLoss))\n",
    "        current_loss = 0.0\n",
    "        toc = time.time()\n",
    "        print('Training Time Epoch %5d: %.5f' % (epoch + 1, toc - tic))\n",
    "print('Training finished')\n",
    "\n",
    "for i, data in enumerate(testLoader, 0):\n",
    "    inputs, targets = data\n",
    "    inputs, targets = inputs.float(), targets.float()\n",
    "    targets = targets.reshape((targets.shape[0], 1))\n",
    "\n",
    "nn3F = three_factor_model(inputs)"
   ]
  },
  {
   "cell_type": "markdown",
   "id": "a4d11e5f",
   "metadata": {},
   "source": [
    "# Results"
   ]
  },
  {
   "cell_type": "code",
   "execution_count": 425,
   "id": "b47690f8",
   "metadata": {},
   "outputs": [],
   "source": [
    "evaluations = np.stack([nn3F.detach().numpy()[:,0],nn4F.detach().numpy()[:,0], hullWhitePred, targets.detach().numpy()[:,0]], axis = 1)\n",
    "evaluations = pd.DataFrame(evaluations, columns = ['3F_Model', '4F_Model', 'Hull_White', 'Targets'])"
   ]
  },
  {
   "cell_type": "code",
   "execution_count": 426,
   "id": "bc9424d9",
   "metadata": {},
   "outputs": [
    {
     "data": {
      "text/plain": [
       "[600.7064467989742, 599.45230774807, 601.1853788739089]"
      ]
     },
     "execution_count": 426,
     "metadata": {},
     "output_type": "execute_result"
    }
   ],
   "source": [
    "performance = [sum((evaluations['3F_Model'] - evaluations.Targets)**2), sum((evaluations['4F_Model'] - evaluations.Targets)**2), sum((evaluations.Hull_White - evaluations.Targets)**2)]\n",
    "performance"
   ]
  },
  {
   "cell_type": "code",
   "execution_count": 429,
   "id": "12a359bb",
   "metadata": {},
   "outputs": [
    {
     "data": {
      "text/plain": [
       "[-0.002092141500990463, 0.000796646245508903, 0.0028827566117545222]"
      ]
     },
     "execution_count": 429,
     "metadata": {},
     "output_type": "execute_result"
    }
   ],
   "source": [
    "gain = [1 - performance[0]/performance[1], 1 - performance[0]/performance[2], 1 - performance[1]/performance[2]]\n",
    "gain"
   ]
  },
  {
   "cell_type": "code",
   "execution_count": null,
   "id": "9318109e",
   "metadata": {},
   "outputs": [],
   "source": []
  }
 ],
 "metadata": {
  "kernelspec": {
   "display_name": "Python 3 (ipykernel)",
   "language": "python",
   "name": "python3"
  },
  "language_info": {
   "codemirror_mode": {
    "name": "ipython",
    "version": 3
   },
   "file_extension": ".py",
   "mimetype": "text/x-python",
   "name": "python",
   "nbconvert_exporter": "python",
   "pygments_lexer": "ipython3",
   "version": "3.9.7"
  }
 },
 "nbformat": 4,
 "nbformat_minor": 5
}
