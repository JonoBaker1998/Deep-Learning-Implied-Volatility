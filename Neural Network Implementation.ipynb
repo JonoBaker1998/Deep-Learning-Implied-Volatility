{
 "cells": [
  {
   "cell_type": "markdown",
   "id": "3692734b",
   "metadata": {},
   "source": [
    "# Neural Network Implementation\n",
    "We finally approach the neural network implementation of this fucking paper"
   ]
  },
  {
   "cell_type": "code",
   "execution_count": 56,
   "id": "46c711cf",
   "metadata": {},
   "outputs": [],
   "source": [
    "# Packages\n",
    "import numpy as np\n",
    "import pandas as pd\n",
    "import torch\n",
    "import scipy.stats as stats\n",
    "import matplotlib.pyplot as plt\n",
    "\n",
    "import torch\n",
    "import torch.nn as nn\n",
    "import torch.optim as optim, torch.nn.functional as F\n",
    "import tensorflow as tf\n",
    "from tensorflow import keras\n",
    "from keras.models import Sequential\n",
    "from keras.layers import Dense\n",
    "from sklearn.preprocessing import StandardScaler\n",
    "\n",
    "# All Required DataSets\n",
    "IVSurface = np.load('testSurface.pkl', allow_pickle = True)\n",
    "SP500 = np.load('SP500.pkl', allow_pickle = True)\n",
    "VIX = np.load('VIX.pkl', allow_pickle = True)"
   ]
  },
  {
   "cell_type": "code",
   "execution_count": 110,
   "id": "a7fe99d2",
   "metadata": {},
   "outputs": [],
   "source": [
    "mergedData = pd.merge(pd.merge(IVSurface, SP500, how = 'left', on = 'Date'), VIX, how = 'left', on = 'Date')\n",
    "mergedData = mergedData.filter(['strike', 'daysExp', 'fittedIV', 'Returns', 'VIX'])\n",
    "mergedData['IVChange'] = mergedData.fittedIV.diff(periods = 441)\n",
    "mergedData = mergedData.shift(periods = -441).dropna()\n",
    "mergedData.to_pickle('finalDataSet.pkl')"
   ]
  },
  {
   "cell_type": "markdown",
   "id": "37e6b007",
   "metadata": {},
   "source": [
    "## Preparing Test Validation Splits"
   ]
  },
  {
   "cell_type": "code",
   "execution_count": 104,
   "id": "3ab2d42e",
   "metadata": {},
   "outputs": [],
   "source": [
    "splitFraction = 0.7 # Here we train using 70% of the data\n",
    "trainSplit = int(splitFraction * mergedData.shape[0])\n",
    "\n",
    "trainData = mergedData.iloc[:trainSplit]\n",
    "xTrain = trainData.filter(['strike', 'daysExp', 'Returns', 'VIX']).values\n",
    "yTrain = trainData.filter(['IVChange']).values\n",
    "\n",
    "validationData = mergedData.iloc[trainSplit:]\n",
    "xTest = validationData.filter(['strike', 'daysExp', 'Returns', 'VIX']).values\n",
    "yTest = validationData.IVChange.values"
   ]
  },
  {
   "cell_type": "code",
   "execution_count": 101,
   "id": "c706e0e7",
   "metadata": {},
   "outputs": [
    {
     "data": {
      "text/plain": [
       "array([ 0.00637234,  0.00629518,  0.0061718 , ...,  0.00170169,\n",
       "       -0.00096076, -0.00304449])"
      ]
     },
     "execution_count": 101,
     "metadata": {},
     "output_type": "execute_result"
    }
   ],
   "source": [
    "sc = StandardScaler()\n",
    "xTrain = sc.fit_transform(xTrain)\n",
    "xTest = sc.transform(xTest)\n",
    " #Not too sure on this normalisation."
   ]
  },
  {
   "cell_type": "markdown",
   "id": "00a7deac",
   "metadata": {},
   "source": [
    "## First Neural Network (3 Factor)\n",
    "We first implement the simple three-factor model as a standard feed-forward neural network."
   ]
  },
  {
   "cell_type": "code",
   "execution_count": 105,
   "id": "520da0eb",
   "metadata": {},
   "outputs": [],
   "source": [
    "hiddenNodes = [100, 100, 100]\n",
    "firstPredictor = Sequential()"
   ]
  },
  {
   "cell_type": "code",
   "execution_count": 106,
   "id": "d0976128",
   "metadata": {},
   "outputs": [
    {
     "name": "stdout",
     "output_type": "stream",
     "text": [
      "Epoch 1/10\n",
      "587/587 [==============================] - 1s 725us/step - loss: 5.9619e-04 - mean_squared_error: 5.9619e-04\n",
      "Epoch 2/10\n",
      "587/587 [==============================] - 0s 704us/step - loss: 5.9362e-04 - mean_squared_error: 5.9362e-04\n",
      "Epoch 3/10\n",
      "587/587 [==============================] - 0s 711us/step - loss: 5.9362e-04 - mean_squared_error: 5.9362e-04\n",
      "Epoch 4/10\n",
      "587/587 [==============================] - 0s 699us/step - loss: 5.9362e-04 - mean_squared_error: 5.9362e-04\n",
      "Epoch 5/10\n",
      "587/587 [==============================] - 0s 704us/step - loss: 5.9362e-04 - mean_squared_error: 5.9362e-04\n",
      "Epoch 6/10\n",
      "587/587 [==============================] - 0s 710us/step - loss: 5.9362e-04 - mean_squared_error: 5.9362e-04\n",
      "Epoch 7/10\n",
      "587/587 [==============================] - 0s 708us/step - loss: 5.9362e-04 - mean_squared_error: 5.9362e-04\n",
      "Epoch 8/10\n",
      "587/587 [==============================] - 0s 721us/step - loss: 5.9362e-04 - mean_squared_error: 5.9362e-04\n",
      "Epoch 9/10\n",
      "587/587 [==============================] - 0s 711us/step - loss: 5.9362e-04 - mean_squared_error: 5.9362e-04\n",
      "Epoch 10/10\n",
      "587/587 [==============================] - 0s 721us/step - loss: 5.9362e-04 - mean_squared_error: 5.9362e-04\n"
     ]
    },
    {
     "data": {
      "text/plain": [
       "<keras.callbacks.History at 0x7f848a481d90>"
      ]
     },
     "execution_count": 106,
     "metadata": {},
     "output_type": "execute_result"
    }
   ],
   "source": [
    "firstPredictor.add(Dense(hiddenNodes[0], kernel_initializer = 'uniform', activation = 'relu', input_dim = 4))\n",
    "\n",
    "for i in range(len(hiddenNodes) - 1):\n",
    "    firstPredictor.add(Dense(hiddenNodes[i+1], kernel_initializer = 'uniform', activation = 'relu'))\n",
    "\n",
    "firstPredictor.add(Dense(1, kernel_initializer = 'uniform', activation = 'relu'))\n",
    "\n",
    "firstPredictor.compile(optimizer='sgd',\n",
    "                       loss='mse',\n",
    "                       metrics=[tf.keras.metrics.MeanSquaredError()])\n",
    "\n",
    "firstPredictor.fit(xTrain, yTrain, batch_size = 10, epochs = 10)\n"
   ]
  }
 ],
 "metadata": {
  "kernelspec": {
   "display_name": "Python 3 (ipykernel)",
   "language": "python",
   "name": "python3"
  },
  "language_info": {
   "codemirror_mode": {
    "name": "ipython",
    "version": 3
   },
   "file_extension": ".py",
   "mimetype": "text/x-python",
   "name": "python",
   "nbconvert_exporter": "python",
   "pygments_lexer": "ipython3",
   "version": "3.9.7"
  }
 },
 "nbformat": 4,
 "nbformat_minor": 5
}
