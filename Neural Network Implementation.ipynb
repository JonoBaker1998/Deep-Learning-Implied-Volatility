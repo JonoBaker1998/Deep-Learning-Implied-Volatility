{
 "cells": [
  {
   "cell_type": "markdown",
   "id": "86c33466",
   "metadata": {},
   "source": [
    "# Neural Network Implementation\n",
    "We finally approach the neural network implementation of this paper. Now must make Train, Test Split. And find some metrics to measure on."
   ]
  },
  {
   "cell_type": "code",
   "execution_count": 107,
   "id": "d32188d4",
   "metadata": {},
   "outputs": [],
   "source": [
    "# Packages\n",
    "import numpy as np\n",
    "import pandas as pd\n",
    "import torch\n",
    "import scipy.stats as stats\n",
    "import scipy.optimize as optim\n",
    "import matplotlib.pyplot as plt\n",
    "import time\n",
    "\n",
    "import torch\n",
    "from torch import nn\n",
    "from torch.utils.data import DataLoader\n",
    "from sklearn.preprocessing import StandardScaler\n",
    "\n",
    "# All Required DataSets\n",
    "IVSurface = np.load('testSurface.pkl', allow_pickle = True)\n",
    "SP500 = np.load('SP500.pkl', allow_pickle = True)\n",
    "VIX = np.load('VIX.pkl', allow_pickle = True)\n",
    "hugeData = np.load('rawIVChange.pkl', allow_pickle = True)"
   ]
  },
  {
   "cell_type": "code",
   "execution_count": 108,
   "id": "03b69a75",
   "metadata": {},
   "outputs": [],
   "source": [
    "mergedData = pd.merge(pd.merge(IVSurface, SP500, how = 'left', on = 'Date'), VIX, how = 'left', on = 'Date')\n",
    "mergedData = mergedData.filter(['strike', 'daysExp', 'fittedIV', 'Returns', 'VIX'])\n",
    "mergedData['IVChange'] = mergedData.fittedIV.diff(periods = 441)\n",
    "mergedData = mergedData.shift(periods = -441).dropna()\n",
    "mergedData.daysExp = mergedData.daysExp\n",
    "mergedData.strike = mergedData.strike\n",
    "mergedData.to_pickle('finalDataSet.pkl')"
   ]
  },
  {
   "cell_type": "markdown",
   "id": "e03a5ab9",
   "metadata": {},
   "source": [
    "## Raw IV Change"
   ]
  },
  {
   "cell_type": "code",
   "execution_count": 109,
   "id": "cc2c5a48",
   "metadata": {},
   "outputs": [],
   "source": [
    "hugeData = hugeData.merge(SP500.loc['2015-01-01':'2017-12-29'], how = 'left', on = 'Date')\n",
    "hugeData['moneyness'] = hugeData.strike / hugeData.SP500\n",
    "hugeData = hugeData[(hugeData.DaysChange <= 5) | (hugeData.moneyness >= 0.6)]\n",
    "hugeData = hugeData.merge(VIX.loc['2015-01-01':'2017-12-29'], how = 'left', on = 'Date')\n",
    "hugeData.IVChange = hugeData.IVChange / hugeData.DaysChange"
   ]
  },
  {
   "cell_type": "code",
   "execution_count": 110,
   "id": "750d066c",
   "metadata": {},
   "outputs": [],
   "source": [
    "hugeData = hugeData.filter(['daysExp', 'delta', 'IVChange', 'Returns', 'VIX', 'moneyness'])\n",
    "hugeData.daysExp = hugeData.daysExp / 250"
   ]
  },
  {
   "cell_type": "markdown",
   "id": "72bd155a",
   "metadata": {},
   "source": [
    "## Benchmark Model Raw IV"
   ]
  },
  {
   "cell_type": "code",
   "execution_count": 144,
   "id": "9df5fb9b",
   "metadata": {},
   "outputs": [],
   "source": [
    "trainSplitRaw = 0.7\n",
    "trainIntRaw = int(trainSplitRaw * hugeData.shape[0])\n",
    "trainingDataRaw = hugeData.iloc[:trainIntRaw,:]\n",
    "testDataRaw = hugeData.iloc[trainIntRaw:,:]\n",
    "\n",
    "def hull_white_function(X, a, b, c):\n",
    "    moneyness = X[0,:]\n",
    "    timeToMaturity = X[1,:]\n",
    "    returns = X[2,:]\n",
    "    \n",
    "    quadraticTerm = a + b * moneyness + c * moneyness ** 2\n",
    "    return returns * quadraticTerm / np.sqrt(timeToMaturity)\n",
    "\n",
    "## Comparison Benchmark Data\n",
    "yData = np.array(trainingDataRaw.IVChange).T\n",
    "xData = np.array(trainingDataRaw.filter(['delta', 'daysExp', 'Returns'])).T\n",
    "\n",
    "fittedVal = optim.curve_fit(hull_white_function, xData, yData)\n",
    "aHull, bHull, cHull = fittedVal[0]"
   ]
  },
  {
   "cell_type": "markdown",
   "id": "c8809892",
   "metadata": {},
   "source": [
    "## General Neural Network PyTorch DataLoader"
   ]
  },
  {
   "cell_type": "code",
   "execution_count": 145,
   "id": "97792929",
   "metadata": {},
   "outputs": [],
   "source": [
    "class Raw_Factor_Model_Dataloader():\n",
    "    def __init__(self, X, y, scale_data = True):\n",
    "        if scale_data:\n",
    "            X = StandardScaler().fit_transform(X)\n",
    "        self.X = torch.from_numpy(X)\n",
    "        self.y = torch.from_numpy(y)\n",
    "        \n",
    "    def __len__(self):\n",
    "        return len(self.X)\n",
    "    \n",
    "    def __getitem__(self, i):\n",
    "        return self.X[i], self.y[i]"
   ]
  },
  {
   "cell_type": "markdown",
   "id": "8ef97611",
   "metadata": {},
   "source": [
    "## Three Factor Neural Network with Raw IV"
   ]
  },
  {
   "cell_type": "code",
   "execution_count": 127,
   "id": "2f50ca27",
   "metadata": {},
   "outputs": [],
   "source": [
    "class Raw_Three_Factor_Model(nn.Module):\n",
    "    '''Multilayer Feed Forward Network for regression'''\n",
    "    def __init__(self, hiddenNodes, dropout):\n",
    "        super().__init__()\n",
    "        self.layers = nn.Sequential(\n",
    "            nn.Linear(3, hiddenNodes),\n",
    "            nn.Sigmoid(),\n",
    "            nn.Dropout(p = dropout),\n",
    "            nn.Linear(hiddenNodes, hiddenNodes),\n",
    "            nn.Sigmoid(),\n",
    "            nn.Dropout(p = dropout),\n",
    "            nn.Linear(hiddenNodes, hiddenNodes),\n",
    "            nn.Sigmoid(),\n",
    "            nn.Dropout(p = dropout),\n",
    "            nn.Linear(hiddenNodes, 1)\n",
    "        )\n",
    "        \n",
    "    def forward(self, x):\n",
    "        return self.layers(x)"
   ]
  },
  {
   "cell_type": "code",
   "execution_count": 128,
   "id": "609eedfe",
   "metadata": {},
   "outputs": [],
   "source": [
    "[X, y] = [trainingDataRaw.filter(['delta', 'daysExp', 'Returns']).values,\n",
    "          trainingDataRaw.filter(['IVChange']).values]\n",
    "\n",
    "torchTrainingSet = Factor_Model_Dataloader(X, y)\n",
    "trainLoader = torch.utils.data.DataLoader(torchTrainingSet, batch_size = 5000, shuffle = True, num_workers = 0)\n",
    "\n",
    "[XTest, yTest] = [testDataRaw.filter(['delta', 'daysExp', 'Returns']).values,\n",
    "          testDataRaw.filter(['IVChange']).values]\n",
    "\n",
    "torchTestSet = Factor_Model_Dataloader(XTest, yTest)\n",
    "testLoader = torch.utils.data.DataLoader(torchTestSet, batch_size = testData.shape[0], shuffle = True, num_workers = 0)\n"
   ]
  },
  {
   "cell_type": "code",
   "execution_count": 129,
   "id": "7d8326a7",
   "metadata": {},
   "outputs": [
    {
     "name": "stdout",
     "output_type": "stream",
     "text": [
      "Loss after Epoch    10: 977.65408\n",
      "Training Time Epoch    10: 12.87424\n",
      "Loss after Epoch    20: 794.50490\n",
      "Training Time Epoch    20: 12.58642\n",
      "Loss after Epoch    30: 759.22732\n",
      "Training Time Epoch    30: 12.92266\n",
      "Loss after Epoch    40: 712.74439\n",
      "Training Time Epoch    40: 12.85809\n",
      "Loss after Epoch    50: 658.27349\n",
      "Training Time Epoch    50: 12.93304\n",
      "Loss after Epoch    60: 643.93318\n",
      "Training Time Epoch    60: 12.75014\n",
      "Training finished\n"
     ]
    },
    {
     "data": {
      "text/plain": [
       "[<matplotlib.lines.Line2D at 0x7fbb1d0663a0>]"
      ]
     },
     "execution_count": 129,
     "metadata": {},
     "output_type": "execute_result"
    },
    {
     "data": {
      "image/png": "[encoded data removed]",
      "text/plain": [
       "<Figure size 432x288 with 1 Axes>"
      ]
     },
     "metadata": {
      "needs_background": "light"
     },
     "output_type": "display_data"
    }
   ],
   "source": [
    "raw_three_factor_model = Raw_Three_Factor_Model(80, 0.25)\n",
    "loss_func = nn.MSELoss()\n",
    "\n",
    "epochs = 60\n",
    "opt = torch.optim.Adam(raw_three_factor_model.parameters(), lr = 1e-4)\n",
    "progress3F = []\n",
    "\n",
    "for epoch in range(0, epochs):\n",
    "    tic = time.time()\n",
    "    current_loss = 0\n",
    "    \n",
    "    for i, data in enumerate(trainLoader, 0):\n",
    "        inputs, targets = data\n",
    "        inputs, targets = inputs.float(), targets.float()\n",
    "        opt.zero_grad()\n",
    "        outputs = raw_three_factor_model(inputs)\n",
    "        loss = loss_func(outputs, targets)\n",
    "        loss.backward()\n",
    "        opt.step()\n",
    "        current_loss += 1000* loss.item()\n",
    "        \n",
    "    progress.append(current_loss)        \n",
    "    if (epoch + 1) % 10 == 0:\n",
    "        print('Loss after Epoch %5d: %.5f' % (epoch+1, current_loss))\n",
    "        toc = time.time()\n",
    "        print('Training Time Epoch %5d: %.5f' % (epoch + 1, toc - tic))\n",
    "        \n",
    "print('Training finished')\n",
    "plt.plot(np.log(progress3F))"
   ]
  },
  {
   "cell_type": "code",
   "execution_count": 146,
   "id": "1f259f75",
   "metadata": {},
   "outputs": [],
   "source": [
    "# Three Factor Predictions\n",
    "for i, data in enumerate(testLoader, 0):\n",
    "    inputs, targets = data\n",
    "    inputs, targets = inputs.float(), targets.float()\n",
    "raw_three_factor_model.eval()\n",
    "raw_3 = raw_three_factor_model(inputs)"
   ]
  },
  {
   "cell_type": "markdown",
   "id": "ee28bb71",
   "metadata": {},
   "source": [
    "## Four Factor Neural Network with Raw IV"
   ]
  },
  {
   "cell_type": "code",
   "execution_count": 114,
   "id": "18571a89",
   "metadata": {},
   "outputs": [],
   "source": [
    "class Raw_Four_Factor_Model(nn.Module):\n",
    "    '''Multilayer Feed Forward Network for regression'''\n",
    "    def __init__(self, hiddenNodes, dropout):\n",
    "        super().__init__()\n",
    "        self.layers = nn.Sequential(\n",
    "            nn.Linear(4, hiddenNodes),\n",
    "            nn.Sigmoid(),\n",
    "            nn.Dropout(p = dropout),\n",
    "            nn.Linear(hiddenNodes, hiddenNodes),\n",
    "            nn.Sigmoid(),\n",
    "            nn.Dropout(p = dropout),\n",
    "            nn.Linear(hiddenNodes, hiddenNodes),\n",
    "            nn.Sigmoid(),\n",
    "            nn.Dropout(p = dropout),\n",
    "            nn.Linear(hiddenNodes, 1)\n",
    "        )\n",
    "        \n",
    "    def forward(self, x):\n",
    "        return self.layers(x)"
   ]
  },
  {
   "cell_type": "code",
   "execution_count": 147,
   "id": "aafe9a16",
   "metadata": {},
   "outputs": [],
   "source": [
    "[X, y] = [trainingDataRaw.filter(['delta', 'daysExp', 'Returns', 'VIX']).values,\n",
    "          trainingDataRaw.filter(['IVChange']).values]\n",
    "\n",
    "torchTrainingSet = Factor_Model_Dataloader(X, y)\n",
    "trainLoader = torch.utils.data.DataLoader(torchTrainingSet, batch_size = 5000, shuffle = True, num_workers = 0)\n",
    "\n",
    "[XTest, yTest] = [testData.filter(['delta', 'daysExp', 'Returns', 'VIX']).values,\n",
    "          testData.filter(['IVChange']).values]\n",
    "\n",
    "torchTestSet = Factor_Model_Dataloader(XTest, yTest)\n",
    "testLoader = torch.utils.data.DataLoader(torchTestSet, batch_size = testData.shape[0], shuffle = True, num_workers = 0)\n",
    "\n"
   ]
  },
  {
   "cell_type": "code",
   "execution_count": 117,
   "id": "f5071148",
   "metadata": {},
   "outputs": [
    {
     "name": "stdout",
     "output_type": "stream",
     "text": [
      "Loss after Epoch    10: 969.39147\n",
      "Training Time Epoch    10: 12.95864\n",
      "Loss after Epoch    20: 785.08477\n",
      "Training Time Epoch    20: 12.73081\n",
      "Loss after Epoch    30: 735.40624\n",
      "Training Time Epoch    30: 12.78058\n",
      "Loss after Epoch    40: 671.97045\n",
      "Training Time Epoch    40: 12.91426\n",
      "Loss after Epoch    50: 646.07913\n",
      "Training Time Epoch    50: 12.75459\n",
      "Loss after Epoch    60: 634.38400\n",
      "Training Time Epoch    60: 13.01751\n",
      "Training finished\n"
     ]
    }
   ],
   "source": [
    "raw_four_factor_model = Raw_Four_Factor_Model(80, 0.25)\n",
    "loss_func = nn.MSELoss()\n",
    "\n",
    "epochs = 60\n",
    "opt = torch.optim.Adam(raw_four_factor_model.parameters(), lr = 1e-4)\n",
    "progress4F = []\n",
    "\n",
    "for epoch in range(0, epochs):\n",
    "    tic = time.time()\n",
    "    current_loss = 0\n",
    "    \n",
    "    for i, data in enumerate(trainLoader, 0):\n",
    "        inputs, targets = data\n",
    "        inputs, targets = inputs.float(), targets.float()\n",
    "        opt.zero_grad()\n",
    "        outputs = raw_four_factor_model(inputs)\n",
    "        loss = loss_func(outputs, targets)\n",
    "        loss.backward()\n",
    "        opt.step()\n",
    "        current_loss += 1000* loss.item()\n",
    "        \n",
    "    progress.append(current_loss)        \n",
    "    if (epoch + 1) % 10 == 0:\n",
    "        print('Loss after Epoch %5d: %.5f' % (epoch+1, current_loss))\n",
    "        toc = time.time()\n",
    "        print('Training Time Epoch %5d: %.5f' % (epoch + 1, toc - tic))\n",
    "        \n",
    "print('Training finished')\n",
    "plt.plot(np.log(progress4F))"
   ]
  },
  {
   "cell_type": "code",
   "execution_count": 148,
   "id": "7d58daee",
   "metadata": {},
   "outputs": [],
   "source": [
    "# Four Factor Predictions\n",
    "for i, data in enumerate(testLoader, 0):\n",
    "    inputs, targets = data\n",
    "    inputs, targets = inputs.float(), targets.float()\n",
    "raw_four_factor_model.eval()\n",
    "raw_4 = raw_four_factor_model(inputs)\n",
    "\n",
    "# Hull White Predictions\n",
    "xEval = np.array(testData.filter(['delta', 'daysExp', 'Returns'])).T\n",
    "hullWhitePred = hull_white_function(xEval, aHull, bHull, cHull)"
   ]
  },
  {
   "cell_type": "markdown",
   "id": "a8b4ed88",
   "metadata": {},
   "source": [
    "## Comparisons of Results"
   ]
  },
  {
   "cell_type": "code",
   "execution_count": 163,
   "id": "ddcbec10",
   "metadata": {
    "scrolled": true
   },
   "outputs": [],
   "source": [
    "evaluations = np.stack([raw_3.detach().numpy()[:,0], raw_4.detach().numpy()[:,0], hullWhitePred, targets.detach().numpy()[:,0]], axis = 1)\n",
    "evaluations = pd.DataFrame(evaluations, columns = ['3F_Model','4F_Model', 'Hull_White', 'Targets'])\n",
    "performance = [sum((evaluations['3F_Model'] - evaluations.Targets)**2), sum((evaluations['4F_Model'] - evaluations.Targets)**2), sum((evaluations.Hull_White - evaluations.Targets)**2)]"
   ]
  },
  {
   "cell_type": "code",
   "execution_count": 164,
   "id": "b29b259f",
   "metadata": {},
   "outputs": [
    {
     "name": "stdout",
     "output_type": "stream",
     "text": [
      "Gain of 3F over Hull-White: -0.021\n",
      "Gain of 4F over 3F: 0.199\n",
      "Gain of 4F over Hull-White: 0.183\n"
     ]
    }
   ],
   "source": [
    "gain = [1 - performance[0]/performance[2], 1 - performance[1]/performance[0], 1 - performance[1]/performance[2]]\n",
    "print('Gain of 3F over Hull-White: %.3f' % gain[0])\n",
    "print('Gain of 4F over 3F: %.3f' % gain[1])\n",
    "print('Gain of 4F over Hull-White: %.3f' % gain[2])"
   ]
  },
  {
   "cell_type": "markdown",
   "id": "935d6039",
   "metadata": {},
   "source": [
    "# The Results from HERE ON GET MESSY AND ARE NOT GREAT DUE TO ERRORS IN THE IV SURFACE"
   ]
  },
  {
   "cell_type": "markdown",
   "id": "b886c3dd",
   "metadata": {},
   "source": [
    "## Training Data and Testing Data"
   ]
  },
  {
   "cell_type": "code",
   "execution_count": 4,
   "id": "8855a588",
   "metadata": {},
   "outputs": [],
   "source": [
    "trainSplit = 0.7\n",
    "trainInt = int(trainSplit * mergedData.shape[0])\n",
    "trainingData = mergedData.iloc[:trainInt,:]\n",
    "testData = mergedData.iloc[trainInt:,:]"
   ]
  },
  {
   "cell_type": "markdown",
   "id": "859626d6",
   "metadata": {},
   "source": [
    "## Preparing 4 Factor Dataset"
   ]
  },
  {
   "cell_type": "code",
   "execution_count": 62,
   "id": "e75f4b62",
   "metadata": {},
   "outputs": [],
   "source": [
    "[X, y] = [trainingData.filter(['strike', 'daysExp', 'Returns', 'VIX']).values,\n",
    "          trainingData.filter(['IVChange']).values]\n",
    "\n",
    "torchTrainingSet = Factor_Model_Dataloader(X, y)\n",
    "trainLoader = torch.utils.data.DataLoader(torchTrainingSet, batch_size = 5000, shuffle = True, num_workers = 0)\n",
    "\n",
    "[XTest, yTest] = [testData.filter(['strike', 'daysExp', 'Returns', 'VIX']).values,\n",
    "          testData.filter(['IVChange']).values]\n",
    "\n",
    "torchTestSet = Factor_Model_Dataloader(XTest, yTest)\n",
    "testLoader = torch.utils.data.DataLoader(torchTestSet, batch_size = testData.shape[0], shuffle = True, num_workers = 0)\n",
    "\n"
   ]
  },
  {
   "cell_type": "markdown",
   "id": "7a5507bd",
   "metadata": {},
   "source": [
    "## Training Four Factor Neural Network"
   ]
  },
  {
   "cell_type": "code",
   "execution_count": 87,
   "id": "d55f61aa",
   "metadata": {
    "scrolled": false
   },
   "outputs": [
    {
     "name": "stdout",
     "output_type": "stream",
     "text": [
      "Loss after Epoch    10: 898.74274\n",
      "Training Time Epoch    10: 2.16317\n",
      "Loss after Epoch    20: 481.48201\n",
      "Training Time Epoch    20: 2.07779\n",
      "Loss after Epoch    30: 290.02839\n",
      "Training Time Epoch    30: 2.14815\n",
      "Loss after Epoch    40: 209.61847\n",
      "Training Time Epoch    40: 2.08755\n",
      "Loss after Epoch    50: 176.15299\n",
      "Training Time Epoch    50: 2.11734\n",
      "Loss after Epoch    60: 157.67721\n",
      "Training Time Epoch    60: 2.09819\n",
      "Training finished\n"
     ]
    }
   ],
   "source": [
    "four_factor_model = Four_Factor_Model(80, 0.25)\n",
    "loss_func = nn.MSELoss()\n",
    "\n",
    "epochs = 60\n",
    "opt = torch.optim.Adam(four_factor_model.parameters(), lr = 1e-4)\n",
    "progress = []\n",
    "\n",
    "for epoch in range(0, epochs):\n",
    "    tic = time.time()\n",
    "    current_loss = 0\n",
    "    \n",
    "    for i, data in enumerate(trainLoader, 0):\n",
    "        inputs, targets = data\n",
    "        inputs, targets = inputs.float(), targets.float()\n",
    "        opt.zero_grad()\n",
    "        outputs = four_factor_model(inputs)\n",
    "        loss = loss_func(outputs, targets)\n",
    "        loss.backward()\n",
    "        opt.step()\n",
    "        current_loss += 1000* loss.item()\n",
    "        \n",
    "        #if i % 10 == 0:\n",
    "            #print('Loss after mini-batch %5d: %.10f' %\n",
    "             #   (i + 1, current_loss / 500))\n",
    "            #current_loss = 0.0\n",
    "    progress.append(current_loss)        \n",
    "    if (epoch + 1) % 10 == 0:\n",
    "        print('Loss after Epoch %5d: %.5f' % (epoch+1, current_loss))\n",
    "        toc = time.time()\n",
    "        print('Training Time Epoch %5d: %.5f' % (epoch + 1, toc - tic))\n",
    "        \n",
    "print('Training finished')"
   ]
  },
  {
   "cell_type": "code",
   "execution_count": 82,
   "id": "eca700f0",
   "metadata": {},
   "outputs": [
    {
     "data": {
      "text/plain": [
       "[<matplotlib.lines.Line2D at 0x7fbbd9146160>]"
      ]
     },
     "execution_count": 82,
     "metadata": {},
     "output_type": "execute_result"
    },
    {
     "data": {
      "image/png": "[encoded data removed]",
      "text/plain": [
       "<Figure size 432x288 with 1 Axes>"
      ]
     },
     "metadata": {
      "needs_background": "light"
     },
     "output_type": "display_data"
    }
   ],
   "source": [
    "plt.plot(np.log(progress))"
   ]
  },
  {
   "cell_type": "code",
   "execution_count": 83,
   "id": "45911153",
   "metadata": {},
   "outputs": [],
   "source": [
    "for i, data in enumerate(testLoader, 0):\n",
    "    inputs, targets = data\n",
    "    inputs, targets = inputs.float(), targets.float()\n",
    "    targets = targets.reshape((targets.shape[0], 1))\n",
    "four_factor_model.eval()\n",
    "nn4F = four_factor_model(inputs)\n",
    "xEval = np.array(testData.filter(['strike', 'daysExp', 'Returns'])).T\n",
    "hullWhitePred = hull_white_function(xEval, hullParameters)"
   ]
  },
  {
   "cell_type": "markdown",
   "id": "ad32ed79",
   "metadata": {},
   "source": [
    "# Preparing Three Factor Neural Network"
   ]
  },
  {
   "cell_type": "code",
   "execution_count": 14,
   "id": "d400d014",
   "metadata": {},
   "outputs": [],
   "source": [
    "[X, y] = [trainingData.filter(['strike', 'daysExp', 'Returns']).values,\n",
    "          trainingData.filter(['IVChange']).values]\n",
    "\n",
    "torchTrainingSet = Factor_Model_Dataloader(X, y)\n",
    "trainLoader = torch.utils.data.DataLoader(torchTrainingSet, batch_size = 512, shuffle = True, num_workers = 0)\n",
    "\n",
    "[XTest, yTest] = [testData.filter(['strike', 'daysExp', 'Returns']).values,\n",
    "          testData.filter(['IVChange']).values]\n",
    "\n",
    "torchTestSet = Factor_Model_Dataloader(XTest, yTest)\n",
    "testLoader = torch.utils.data.DataLoader(torchTestSet, batch_size = testData.shape[0], shuffle = True, num_workers = 0)"
   ]
  },
  {
   "cell_type": "code",
   "execution_count": 15,
   "id": "33302e95",
   "metadata": {},
   "outputs": [],
   "source": [
    "class Three_Factor_Model(nn.Module):\n",
    "    '''Multilayer Feed Forward Network for regression'''\n",
    "    def __init__(self, hiddenNodes, dropout):\n",
    "        super().__init__()\n",
    "        self.layers = nn.Sequential(\n",
    "            nn.Linear(3, hiddenNodes),\n",
    "            nn.Sigmoid(),\n",
    "            nn.Linear(hiddenNodes, hiddenNodes),\n",
    "            nn.Sigmoid(),\n",
    "            nn.Linear(hiddenNodes, hiddenNodes),\n",
    "            nn.Sigmoid(),\n",
    "            nn.Linear(hiddenNodes, 1)\n",
    "        )\n",
    "        \n",
    "    def forward(self, x):\n",
    "        return self.layers(x)"
   ]
  },
  {
   "cell_type": "code",
   "execution_count": 16,
   "id": "69a417ab",
   "metadata": {},
   "outputs": [
    {
     "name": "stdout",
     "output_type": "stream",
     "text": [
      "Loss after Epoch    10: 1.26653\n",
      "Training Time Epoch    10: 1.56122\n",
      "Training finished\n"
     ]
    }
   ],
   "source": [
    "three_factor_model = Three_Factor_Model(80, 0.25)\n",
    "epochs = 10\n",
    "opt = torch.optim.Adam(three_factor_model.parameters(), lr = 1e-3)\n",
    "\n",
    "for epoch in range(0, epochs):\n",
    "    tic = time.time()\n",
    "    currentLoss = 0.0\n",
    "    for i, data in enumerate(trainLoader, 0):\n",
    "        inputs, targets = data\n",
    "        inputs, targets = inputs.float(), targets.float()\n",
    "        targets = targets.reshape((targets.shape[0], 1))\n",
    "        \n",
    "        opt.zero_grad()\n",
    "        outputs = three_factor_model(inputs)\n",
    "        loss = loss_func(outputs, targets)\n",
    "        loss.backward()\n",
    "        opt.step()\n",
    "        currentLoss += loss.item()\n",
    "        \n",
    "    if (epoch + 1) % 10 == 0:\n",
    "        print('Loss after Epoch %5d: %.5f' % (epoch+1, currentLoss))\n",
    "        current_loss = 0.0\n",
    "        toc = time.time()\n",
    "        print('Training Time Epoch %5d: %.5f' % (epoch + 1, toc - tic))\n",
    "print('Training finished')\n",
    "\n",
    "for i, data in enumerate(testLoader, 0):\n",
    "    inputs, targets = data\n",
    "    inputs, targets = inputs.float(), targets.float()\n",
    "    targets = targets.reshape((targets.shape[0], 1))\n",
    "\n",
    "nn3F = three_factor_model(inputs)"
   ]
  },
  {
   "cell_type": "markdown",
   "id": "d0508916",
   "metadata": {},
   "source": [
    "# Results"
   ]
  },
  {
   "cell_type": "code",
   "execution_count": 84,
   "id": "028d3386",
   "metadata": {},
   "outputs": [],
   "source": [
    "evaluations = np.stack([nn3F.detach().numpy()[:,0],nn4F.detach().numpy()[:,0], hullWhitePred, targets.detach().numpy()[:,0]], axis = 1)\n",
    "evaluations = pd.DataFrame(evaluations, columns = ['3F_Model', '4F_Model', 'Hull_White', 'Targets'])"
   ]
  },
  {
   "cell_type": "code",
   "execution_count": 85,
   "id": "0af64525",
   "metadata": {},
   "outputs": [
    {
     "data": {
      "text/plain": [
       "[171.9258563844925, 166.03764104817313, 166.0261481754941]"
      ]
     },
     "execution_count": 85,
     "metadata": {},
     "output_type": "execute_result"
    }
   ],
   "source": [
    "performance = [sum((evaluations['3F_Model'] - evaluations.Targets)**2), sum((evaluations['4F_Model'] - evaluations.Targets)**2), sum((evaluations.Hull_White - evaluations.Targets)**2)]\n",
    "performance"
   ]
  },
  {
   "cell_type": "code",
   "execution_count": 86,
   "id": "422b98bd",
   "metadata": {},
   "outputs": [
    {
     "data": {
      "text/plain": [
       "[-0.0354631353417687, -0.03553481348469445, -6.922326877623064e-05]"
      ]
     },
     "execution_count": 86,
     "metadata": {},
     "output_type": "execute_result"
    }
   ],
   "source": [
    "gain = [1 - performance[0]/performance[1], 1 - performance[0]/performance[2], 1 - performance[1]/performance[2]]\n",
    "gain"
   ]
  },
  {
   "cell_type": "code",
   "execution_count": null,
   "id": "16a0330d",
   "metadata": {},
   "outputs": [],
   "source": []
  }
 ],
 "metadata": {
  "kernelspec": {
   "display_name": "Python 3 (ipykernel)",
   "language": "python",
   "name": "python3"
  },
  "language_info": {
   "codemirror_mode": {
    "name": "ipython",
    "version": 3
   },
   "file_extension": ".py",
   "mimetype": "text/x-python",
   "name": "python",
   "nbconvert_exporter": "python",
   "pygments_lexer": "ipython3",
   "version": "3.9.7"
  }
 },
 "nbformat": 4,
 "nbformat_minor": 5
}
