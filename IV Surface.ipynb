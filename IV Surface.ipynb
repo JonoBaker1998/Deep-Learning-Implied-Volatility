{
 "cells": [
  {
   "cell_type": "markdown",
   "id": "fa148c7f",
   "metadata": {},
   "source": [
    "## Packages Required"
   ]
  },
  {
   "cell_type": "code",
   "execution_count": 10,
   "id": "21448d3b",
   "metadata": {},
   "outputs": [],
   "source": [
    "import numpy as np\n",
    "import scipy.stats as stats\n",
    "import scipy.optimize as opt\n",
    "import sklearn\n",
    "import matplotlib.pyplot as plt"
   ]
  },
  {
   "cell_type": "markdown",
   "id": "226c0df0",
   "metadata": {},
   "source": [
    "# SVI Jump-Wings Parameterisation"
   ]
  },
  {
   "cell_type": "markdown",
   "id": "86108455",
   "metadata": {},
   "source": [
    "### Parameters"
   ]
  },
  {
   "cell_type": "code",
   "execution_count": 30,
   "id": "b3beab20",
   "metadata": {},
   "outputs": [],
   "source": [
    "class SVI():\n",
    "    def __init__(self, a, b, rho, sig, m):\n",
    "        self.volData = volData\n",
    "        self.a = a\n",
    "        self.m = m\n",
    "        self.b = b\n",
    "        self.rho = rho\n",
    "        self.sig = sig\n",
    "\n",
    "    def SVI_raw(self, volData, a, b, m, rho, sig):\n",
    "        self.daysExp = volData[0,:]/250\n",
    "        self.strike = volData[1,:]\n",
    "        totalVol = a + b * (\n",
    "            rho * (self.strike - m) + np.sqrt((self.strike - m) ** 2) + sig **2)\n",
    "        impliedVol = totalVol * self.daysExp\n",
    "        return impliedVol\n",
    "    \n",
    "    def SVI_JW(self, volData):\n",
    "        self.daysExp = volData[0,:]/250\n",
    "        self.strike = volData[1,:]\n",
    "        # raw Parameters\n",
    "        a = self.a\n",
    "        b = self.b\n",
    "        rho = self.rho\n",
    "        m = self.m\n",
    "        sig = self.sig\n",
    "        t = self.daysExp\n",
    "        \n",
    "        # SVI Jump-Wings\n",
    "        wt = (self.a + self.b * ( - self.rho * m + np.sqrt(self.m ** 2 + self.sig ** 2)))\n",
    "        vt = wt / (t)\n",
    "        phit = (1 / np.sqrt(wt)) * self.b / 2 * ( - self.m / np.sqrt(self.m ** 2 + self.sig ** 2) + self.rho)\n",
    "        pt = 1 / np.sqrt(wt) * self.b * (1 - self.rho)\n",
    "        ct = 1 / np.sqrt(wt) * self.b * ( 1+ self.rho)\n",
    "        vTilde = (self.a + self.b * self.sig * np.sqrt(1 - self.rho ** 2)) / (t)\n",
    "        \n",
    "        # Parameterisation\n",
    "        beta = self.rho - 2 * phit * np.sqrt(wt) / self.b\n",
    "        alpha = np.sign(beta) * np.sqrt(1/(beta ** 2) - 1)\n",
    "        \n",
    "        bNew = np.sqrt(wt) / 2 * (ct + pt)\n",
    "        rhoNew = 1 - pt * np.sqrt(wt)/b\n",
    "        mNew = ((vt - vTilde) * t)/(b *(\n",
    "            - rho + np.sign(alpha) * np.sqrt(1 + alpha ** 2) - alpha * np.sqrt(1 - rho ** 2)))\n",
    "        aNew = vTilde * t - b * sig * np.sqrt(1 - rho)        \n",
    "        if m == 0:\n",
    "            sigNew = (vt * t - a)/b\n",
    "        else:\n",
    "            sigNew = alpha * m\n",
    "            \n",
    "        impliedVol = self.SVI_raw(a = aNew, b = bNew, m = mNew, rho = rhoNew, sig = sigNew)\n",
    "        \n",
    "        return impliedVol\n",
    "        \n",
    "\n",
    "        "
   ]
  },
  {
   "cell_type": "code",
   "execution_count": 34,
   "id": "05b5a5ca",
   "metadata": {},
   "outputs": [],
   "source": [
    "def SVI_raw(volData, a, b, m, rho, sig):\n",
    "        daysExp = volData[0,:]/250\n",
    "        strike = volData[1,:]\n",
    "        totalVol = a + b * (\n",
    "            rho * (strike - m) + np.sqrt((strike - m) ** 2) + sig **2)\n",
    "        impliedVol = totalVol * daysExp\n",
    "        return impliedVol\n",
    "    \n",
    "def SVI_JW(volData, a, b, m, rho, sig):\n",
    "        daysExp = volData[0,:]/250\n",
    "        strike = volData[1,:]\n",
    "        t = daysExp\n",
    "        \n",
    "        # SVI Jump-Wings\n",
    "        wt = (a + b * ( - rho * m + np.sqrt(m ** 2 + sig ** 2)))\n",
    "        vt = wt / (t)\n",
    "        phit = (1 / np.sqrt(wt)) * b / 2 * ( - m / np.sqrt(m ** 2 + sig ** 2) + rho)\n",
    "        pt = 1 / np.sqrt(wt) * b * (1 - rho)\n",
    "        ct = 1 / np.sqrt(wt) * b * ( 1+ rho)\n",
    "        vTilde = (a + b * sig * np.sqrt(1 - rho ** 2)) / (t)\n",
    "        \n",
    "        # Parameterisation\n",
    "        beta = rho - 2 * phit * np.sqrt(wt) / b\n",
    "        alpha = np.sign(beta) * np.sqrt(1/(beta ** 2) - 1)\n",
    "        \n",
    "        bNew = np.sqrt(wt) / 2 * (ct + pt)\n",
    "        rhoNew = 1 - pt * np.sqrt(wt)/b\n",
    "        mNew = ((vt - vTilde) * t)/(b *(\n",
    "            - rho + np.sign(alpha) * np.sqrt(1 + alpha ** 2) - alpha * np.sqrt(1 - rho ** 2)))\n",
    "        aNew = vTilde * t - b * sig * np.sqrt(1 - rho)        \n",
    "        if m == 0:\n",
    "            sigNew = (vt * t - a)/b\n",
    "        else:\n",
    "            sigNew = alpha * m\n",
    "            \n",
    "        impliedVol = SVI_raw(volData = volData, a = aNew, b = bNew, m = mNew, rho = rhoNew, sig = sigNew)\n",
    "        \n",
    "        return impliedVol"
   ]
  },
  {
   "cell_type": "markdown",
   "id": "44c15a22",
   "metadata": {},
   "source": [
    "## Test"
   ]
  },
  {
   "cell_type": "code",
   "execution_count": 4,
   "id": "3b6f75c3",
   "metadata": {},
   "outputs": [],
   "source": [
    "priceData = np.load('joinData.pkl', allow_pickle = True)"
   ]
  },
  {
   "cell_type": "code",
   "execution_count": 41,
   "id": "0bf62a8c",
   "metadata": {},
   "outputs": [],
   "source": [
    "allData = priceData.loc['2015-01-02']\n",
    "\n",
    "yData = allData.filter(['IV'])\n",
    "yData = np.array(yData).T[0]\n",
    "\n",
    "xData = allData.filter(['daysExp', 'strike'])\n",
    "xData = np.array(xData).T\n"
   ]
  },
  {
   "cell_type": "markdown",
   "id": "26837916",
   "metadata": {},
   "source": [
    "We fit the curve via Least Squares with linear and non-linear contraints on the parameters.\n"
   ]
  },
  {
   "cell_type": "code",
   "execution_count": 76,
   "id": "489899ed",
   "metadata": {},
   "outputs": [
    {
     "data": {
      "text/plain": [
       "     fun: 12694197.170190187\n",
       "     jac: array([ 1.23776750e+05,  2.54372919e+08, -1.36155000e+04,  2.31251721e+07,\n",
       "        3.04737500e+03])\n",
       " message: 'Inequality constraints incompatible'\n",
       "    nfev: 6\n",
       "     nit: 1\n",
       "    njev: 1\n",
       "  status: 4\n",
       " success: False\n",
       "       x: array([0.1, 0.1, 0.1, 0.1, 0.1])"
      ]
     },
     "execution_count": 76,
     "metadata": {},
     "output_type": "execute_result"
    }
   ],
   "source": [
    "# Constraints\n",
    "def nonLinConstraintFun(x):\n",
    "    return (x[0] + x[1] * x[4] * np.sqrt(1 - x[3] **2))\n",
    "\n",
    "nonLinearConstraint = opt.NonlinearConstraint(nonLinConstraintFun, 0, np.inf)\n",
    "bnds = ((None, None), (0.0001, None), (None, None), (-0.999, 0.999), (0.0001, None))\n",
    "\n",
    "#linConstraint = opt.LinearConstraint(np.eye(5),[-np.inf, 0, -np.inf, -0.9999, 0.00001],\n",
    "                               #      [np.inf, np.inf, np.inf, 0.9999, np.inf])\n",
    "\n",
    "## Initial Values\n",
    "initVal = [0.1, 0.1, 0.1, 0.1, 0.1]\n",
    "cons = ({'type' : 'ineq', 'fun' : nonLinConstraint})\n",
    "        \n",
    "## Least Squares Minimisation\n",
    "funcToMin = lambda x: sum((SVI_JW(xData, x[0], x[1], x[2], x[3], x[4]) - yData)**2)\n",
    "fittedValues = opt.minimize(funcToMin, initVal, constraints = [nonLinearConstraint], bounds = bnds)\n",
    "fittedValues"
   ]
  },
  {
   "cell_type": "code",
   "execution_count": 75,
   "id": "cb097168",
   "metadata": {},
   "outputs": [
    {
     "data": {
      "text/plain": [
       "<scipy.optimize._constraints.NonlinearConstraint at 0x7febf92b90a0>"
      ]
     },
     "execution_count": 75,
     "metadata": {},
     "output_type": "execute_result"
    }
   ],
   "source": [
    "nonLinearConstraint"
   ]
  },
  {
   "cell_type": "code",
   "execution_count": 51,
   "id": "91ac0e9e",
   "metadata": {},
   "outputs": [
    {
     "name": "stderr",
     "output_type": "stream",
     "text": [
      "/var/folders/qz/tbpst7xn3vx136h1lxlk2xhc0000gn/T/ipykernel_66297/84792959.py:17: RuntimeWarning: invalid value encountered in sqrt\n",
      "  phit = (1 / np.sqrt(wt)) * b / 2 * ( - m / np.sqrt(m ** 2 + sig ** 2) + rho)\n",
      "/var/folders/qz/tbpst7xn3vx136h1lxlk2xhc0000gn/T/ipykernel_66297/84792959.py:18: RuntimeWarning: invalid value encountered in sqrt\n",
      "  pt = 1 / np.sqrt(wt) * b * (1 - rho)\n",
      "/var/folders/qz/tbpst7xn3vx136h1lxlk2xhc0000gn/T/ipykernel_66297/84792959.py:19: RuntimeWarning: invalid value encountered in sqrt\n",
      "  ct = 1 / np.sqrt(wt) * b * ( 1+ rho)\n",
      "/var/folders/qz/tbpst7xn3vx136h1lxlk2xhc0000gn/T/ipykernel_66297/84792959.py:23: RuntimeWarning: invalid value encountered in sqrt\n",
      "  beta = rho - 2 * phit * np.sqrt(wt) / b\n",
      "/var/folders/qz/tbpst7xn3vx136h1lxlk2xhc0000gn/T/ipykernel_66297/84792959.py:26: RuntimeWarning: invalid value encountered in sqrt\n",
      "  bNew = np.sqrt(wt) / 2 * (ct + pt)\n",
      "/var/folders/qz/tbpst7xn3vx136h1lxlk2xhc0000gn/T/ipykernel_66297/84792959.py:27: RuntimeWarning: invalid value encountered in sqrt\n",
      "  rhoNew = 1 - pt * np.sqrt(wt)/b\n"
     ]
    },
    {
     "data": {
      "text/plain": [
       "array([-1.18630096,  0.24516435,  2.7264491 , -0.75477657,  0.54781433])"
      ]
     },
     "execution_count": 51,
     "metadata": {},
     "output_type": "execute_result"
    }
   ],
   "source": [
    "fittedCurve, _ = opt.curve_fit(SVI_JW, xData, yData, bounds = ([-np.inf, 0, -np.inf, -0.9999, 0.00001], [np.inf, np.inf, np.inf, 0.9999, np.inf]))\n",
    "fittedCurve"
   ]
  },
  {
   "cell_type": "code",
   "execution_count": 52,
   "id": "86d0cf34",
   "metadata": {},
   "outputs": [
    {
     "name": "stderr",
     "output_type": "stream",
     "text": [
      "/var/folders/qz/tbpst7xn3vx136h1lxlk2xhc0000gn/T/ipykernel_66297/84792959.py:17: RuntimeWarning: invalid value encountered in sqrt\n",
      "  phit = (1 / np.sqrt(wt)) * b / 2 * ( - m / np.sqrt(m ** 2 + sig ** 2) + rho)\n",
      "/var/folders/qz/tbpst7xn3vx136h1lxlk2xhc0000gn/T/ipykernel_66297/84792959.py:18: RuntimeWarning: invalid value encountered in sqrt\n",
      "  pt = 1 / np.sqrt(wt) * b * (1 - rho)\n",
      "/var/folders/qz/tbpst7xn3vx136h1lxlk2xhc0000gn/T/ipykernel_66297/84792959.py:19: RuntimeWarning: invalid value encountered in sqrt\n",
      "  ct = 1 / np.sqrt(wt) * b * ( 1+ rho)\n",
      "/var/folders/qz/tbpst7xn3vx136h1lxlk2xhc0000gn/T/ipykernel_66297/84792959.py:23: RuntimeWarning: invalid value encountered in sqrt\n",
      "  beta = rho - 2 * phit * np.sqrt(wt) / b\n",
      "/var/folders/qz/tbpst7xn3vx136h1lxlk2xhc0000gn/T/ipykernel_66297/84792959.py:26: RuntimeWarning: invalid value encountered in sqrt\n",
      "  bNew = np.sqrt(wt) / 2 * (ct + pt)\n",
      "/var/folders/qz/tbpst7xn3vx136h1lxlk2xhc0000gn/T/ipykernel_66297/84792959.py:27: RuntimeWarning: invalid value encountered in sqrt\n",
      "  rhoNew = 1 - pt * np.sqrt(wt)/b\n"
     ]
    },
    {
     "data": {
      "text/plain": [
       "array([nan, nan, nan, ..., nan, nan, nan])"
      ]
     },
     "execution_count": 52,
     "metadata": {},
     "output_type": "execute_result"
    }
   ],
   "source": [
    "SVI_JW(xData, -1.18630096, 0.24516435, 2.7264491, -0.75377657, 0.54781433)"
   ]
  },
  {
   "cell_type": "code",
   "execution_count": null,
   "id": "096067b6",
   "metadata": {},
   "outputs": [],
   "source": []
  }
 ],
 "metadata": {
  "kernelspec": {
   "display_name": "Python 3 (ipykernel)",
   "language": "python",
   "name": "python3"
  },
  "language_info": {
   "codemirror_mode": {
    "name": "ipython",
    "version": 3
   },
   "file_extension": ".py",
   "mimetype": "text/x-python",
   "name": "python",
   "nbconvert_exporter": "python",
   "pygments_lexer": "ipython3",
   "version": "3.9.7"
  }
 },
 "nbformat": 4,
 "nbformat_minor": 5
}
