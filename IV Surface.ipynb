{
 "cells": [
  {
   "cell_type": "markdown",
   "id": "fa148c7f",
   "metadata": {},
   "source": [
    "## Packages Required"
   ]
  },
  {
   "cell_type": "code",
   "execution_count": 77,
   "id": "21448d3b",
   "metadata": {},
   "outputs": [],
   "source": [
    "import numpy as np\n",
    "import scipy.stats as stats\n",
    "import scipy.optimize as opt\n",
    "import sklearn\n",
    "import matplotlib.pyplot as plt"
   ]
  },
  {
   "cell_type": "markdown",
   "id": "226c0df0",
   "metadata": {},
   "source": [
    "# SVI Jump-Wings Parameterisation"
   ]
  },
  {
   "cell_type": "markdown",
   "id": "86108455",
   "metadata": {},
   "source": [
    "### Parameters"
   ]
  },
  {
   "cell_type": "code",
   "execution_count": 375,
   "id": "b3beab20",
   "metadata": {},
   "outputs": [],
   "source": [
    "class SVI():\n",
    "    def __init__(self, a, b, rho, sig, m):\n",
    "        self.volData = volData\n",
    "        self.a = a\n",
    "        self.m = m\n",
    "        self.b = b\n",
    "        self.rho = rho\n",
    "        self.sig = sig\n",
    "\n",
    "    def SVI_raw(self, volData, a, b, m, rho, sig):\n",
    "        self.daysExp = volData[0,:]/365\n",
    "        self.strike = volData[1,:]\n",
    "        totalVol = a + b * (\n",
    "            rho * (self.strike - m) + np.sqrt((self.strike - m) ** 2) + sig **2)\n",
    "        impliedVol = totalVol / self.daysExp\n",
    "        return impliedVol\n",
    "    \n",
    "    def SVI_JW(self, volData):\n",
    "        self.daysExp = volData[0,:]/365\n",
    "        self.strike = volData[1,:]\n",
    "        # raw Parameters\n",
    "        a = self.a\n",
    "        b = self.b\n",
    "        rho = self.rho\n",
    "        m = self.m\n",
    "        sig = self.sig\n",
    "        t = self.daysExp\n",
    "        \n",
    "        # SVI Jump-Wings\n",
    "        wt = (self.a + self.b * ( - self.rho * m + np.sqrt(self.m ** 2 + self.sig ** 2)))\n",
    "        vt = wt / (t)\n",
    "        phit = (1 / np.sqrt(wt)) * self.b / 2 * ( - self.m / np.sqrt(self.m ** 2 + self.sig ** 2) + self.rho)\n",
    "        pt = 1 / np.sqrt(wt) * self.b * (1 - self.rho)\n",
    "        ct = 1 / np.sqrt(wt) * self.b * ( 1+ self.rho)\n",
    "        vTilde = (self.a + self.b * self.sig * np.sqrt(1 - self.rho ** 2)) / (t)\n",
    "        \n",
    "        # Parameterisation\n",
    "        beta = self.rho - 2 * phit * np.sqrt(wt) / self.b\n",
    "        alpha = np.sign(beta) * np.sqrt(1/(beta ** 2) - 1)\n",
    "        \n",
    "        bNew = np.sqrt(wt) / 2 * (ct + pt)\n",
    "        rhoNew = 1 - pt * np.sqrt(wt)/b\n",
    "        mNew = ((vt - vTilde) * t)/(b *(\n",
    "            - rho + np.sign(alpha) * np.sqrt(1 + alpha ** 2) - alpha * np.sqrt(1 - rho ** 2)))\n",
    "        aNew = vTilde * t - b * sig * np.sqrt(1 - rho)        \n",
    "        if m == 0:\n",
    "            sigNew = (vt * t - a)/b\n",
    "        else:\n",
    "            sigNew = alpha * m\n",
    "            \n",
    "        impliedVol = self.SVI_raw(a = aNew, b = bNew, m = mNew, rho = rhoNew, sig = sigNew)\n",
    "        \n",
    "        return impliedVol\n",
    "        \n",
    "\n",
    "        "
   ]
  },
  {
   "cell_type": "code",
   "execution_count": 400,
   "id": "05634bd8",
   "metadata": {},
   "outputs": [],
   "source": [
    "def SVI_raw(volData, a, b, m, rho, sig):\n",
    "        daysExp = volData[0,:]\n",
    "        strike = volData[1,:]\n",
    "        totalVol = a + b * (\n",
    "            rho * (strike - m) + np.sqrt((strike - m) ** 2) + sig **2)\n",
    "        impliedVol = totalVol / daysExp\n",
    "        return impliedVol\n",
    "    \n",
    "def SVI_JW(volData, a, b, m, rho, sig):\n",
    "        daysExp = volData[0,:]\n",
    "        strike = volData[1,:]\n",
    "        t = daysExp\n",
    "        \n",
    "        # SVI Jump-Wings\n",
    "        wt = (a + b * ( - rho * m + np.sqrt(m ** 2 + sig ** 2)))\n",
    "        vt = wt / (t)\n",
    "        phit = (1 / np.sqrt(wt)) * b / 2 * ( - m / np.sqrt(m ** 2 + sig ** 2) + rho)\n",
    "        pt = 1 / np.sqrt(wt) * b * (1 - rho)\n",
    "        ct = 1 / np.sqrt(wt) * b * ( 1+ rho)\n",
    "        vTilde = (a + b * sig * np.sqrt(1 - rho ** 2)) / (t)\n",
    "        \n",
    "        # Parameterisation\n",
    "        beta = rho - 2 * phit * np.sqrt(wt) / b\n",
    "        alpha = np.sign(beta) * np.sqrt(1/(beta ** 2) - 1)\n",
    "        \n",
    "        bNew = np.sqrt(wt) / 2 * (ct + pt)\n",
    "        rhoNew = 1 - pt * np.sqrt(wt)/b\n",
    "        mNew = ((vt - vTilde) * t)/(b *(\n",
    "            - rho + np.sign(alpha) * np.sqrt(1 + alpha ** 2) - alpha * np.sqrt(1 - rho ** 2)))\n",
    "        aNew = vTilde * t - b * sig * np.sqrt(1 - rho)        \n",
    "        if m == 0:\n",
    "            sigNew = (vt * t - a)/b\n",
    "        else:\n",
    "            sigNew = alpha * m\n",
    "            \n",
    "        impliedVol = SVI_raw(volData = volData, a = aNew, b = bNew, m = mNew, rho = rhoNew, sig = sigNew)\n",
    "        \n",
    "        return impliedVol"
   ]
  },
  {
   "cell_type": "markdown",
   "id": "44c15a22",
   "metadata": {},
   "source": [
    "## Fitting the IV Curve"
   ]
  },
  {
   "cell_type": "code",
   "execution_count": 4,
   "id": "3b6f75c3",
   "metadata": {},
   "outputs": [],
   "source": [
    "priceData = np.load('joinData.pkl', allow_pickle = True)"
   ]
  },
  {
   "cell_type": "code",
   "execution_count": 450,
   "id": "ad1bee1f",
   "metadata": {},
   "outputs": [],
   "source": [
    "allData = priceData.loc['2015-01-05']\n",
    "allData = allData[allData.daysExp.isin(allData.daysExp.unique()[0:4])]\n",
    "allData.strike = allData.strike/allData.SP500\n",
    "#allData = allData[allData['strike'] > 0.5]\n",
    "\n",
    "yData = allData.filter(['IV'])\n",
    "yData = np.array(yData).T[0]\n",
    "\n",
    "xData = allData.filter(['daysExp', 'strike', 'SP500'])\n",
    "xData = np.array(xData).T\n"
   ]
  },
  {
   "cell_type": "markdown",
   "id": "a415f9ca",
   "metadata": {},
   "source": [
    "We fit the curve via Least Squares with linear and non-linear contraints on the parameters.\n"
   ]
  },
  {
   "cell_type": "code",
   "execution_count": 451,
   "id": "e211d5e5",
   "metadata": {},
   "outputs": [
    {
     "name": "stderr",
     "output_type": "stream",
     "text": [
      "/opt/anaconda3/envs/AQFseminar/lib/python3.9/site-packages/scipy/optimize/optimize.py:282: RuntimeWarning: Values in x were outside bounds during a minimize step, clipping to bounds\n",
      "  warnings.warn(\"Values in x were outside bounds during a \"\n"
     ]
    },
    {
     "data": {
      "text/plain": [
       "     fun: 12.965995255446964\n",
       "     jac: array([-0.00134075, -0.0002737 , -0.04627132, -0.01489544, -0.01911199])\n",
       " message: 'Optimization terminated successfully'\n",
       "    nfev: 593\n",
       "     nit: 91\n",
       "    njev: 91\n",
       "  status: 0\n",
       " success: True\n",
       "       x: array([ 1.31583992, 25.0389524 ,  0.97438525, -0.59506743,  0.51452505])"
      ]
     },
     "execution_count": 451,
     "metadata": {},
     "output_type": "execute_result"
    }
   ],
   "source": [
    "# Constraints\n",
    "def nonLinConstraintFun(x):\n",
    "    return (x[0] + x[1] * x[4] * np.sqrt(1 - x[3] **2))\n",
    "\n",
    "nonLinearConstraint = opt.NonlinearConstraint(nonLinConstraintFun, 0, np.inf)\n",
    "bnds = ((None, None), (0.0001, None), (None, None), (-0.999, 0.999), (0.0001, None))\n",
    "\n",
    "#linConstraint = opt.LinearConstraint(np.eye(5),[-np.inf, 0, -np.inf, -0.9999, 0.00001],\n",
    "                               #      [np.inf, np.inf, np.inf, 0.9999, np.inf])\n",
    "\n",
    "## Initial Values\n",
    "initVal = [0.4,0.5,0.5,0.5,0.5]\n",
    "cons = ({'type' : 'ineq', 'fun' : nonLinConstraint})\n",
    "        \n",
    "## Least Squares Minimisation\n",
    "funcToMin = lambda x: sum((SVI_JW(xData, x[0], x[1], x[2], x[3], x[4]) - yData)**2)\n",
    "fittedValues = opt.minimize(funcToMin, initVal, constraints = [nonLinearConstraint], bounds = bnds,\n",
    "                            method = 'SLSQP', options={'maxiter':10000})\n",
    "fittedValues"
   ]
  },
  {
   "cell_type": "markdown",
   "id": "cb8b418d",
   "metadata": {},
   "source": [
    "## Test Plot for the fitting\n",
    "We will test using a slice of the surface"
   ]
  },
  {
   "cell_type": "code",
   "execution_count": 458,
   "id": "ae35a034",
   "metadata": {},
   "outputs": [],
   "source": [
    "testSet = allData[allData['daysExp'] == allData.daysExp.unique()[2]]\n"
   ]
  },
  {
   "cell_type": "code",
   "execution_count": 459,
   "id": "4f0bb04e",
   "metadata": {},
   "outputs": [],
   "source": [
    "strikeAxis = np.linspace(0.3, 1.4, 1000).T\n",
    "timeValue = np.ones(1000) * allData.daysExp.unique()[2]\n",
    "xDataTest = np.stack([timeValue, strikeAxis])\n",
    "[a, b, m, rho, sig] = fittedValues.x\n",
    "fittedCurve = SVI_JW(xDataTest, a, b, m, rho, sig) "
   ]
  },
  {
   "cell_type": "code",
   "execution_count": 460,
   "id": "9938c7e6",
   "metadata": {},
   "outputs": [
    {
     "data": {
      "text/plain": [
       "Text(0, 0.5, 'IV')"
      ]
     },
     "execution_count": 460,
     "metadata": {},
     "output_type": "execute_result"
    },
    {
     "data": {
      "image/png": "[encoded data removed]",
      "text/plain": [
       "<Figure size 432x288 with 1 Axes>"
      ]
     },
     "metadata": {
      "needs_background": "light"
     },
     "output_type": "display_data"
    }
   ],
   "source": [
    "plt.scatter(testSet.strike, testSet.IV)\n",
    "plt.plot(strikeAxis, fittedCurve, 'r-')\n",
    "plt.title('15 days to Expiry')\n",
    "plt.xlabel('Strike')\n",
    "plt.ylabel('IV')\n"
   ]
  }
 ],
 "metadata": {
  "kernelspec": {
   "display_name": "Python 3 (ipykernel)",
   "language": "python",
   "name": "python3"
  },
  "language_info": {
   "codemirror_mode": {
    "name": "ipython",
    "version": 3
   },
   "file_extension": ".py",
   "mimetype": "text/x-python",
   "name": "python",
   "nbconvert_exporter": "python",
   "pygments_lexer": "ipython3",
   "version": "3.9.7"
  }
 },
 "nbformat": 4,
 "nbformat_minor": 5
}
