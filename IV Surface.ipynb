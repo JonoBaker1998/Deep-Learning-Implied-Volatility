{
 "cells": [
  {
   "cell_type": "markdown",
   "id": "fa148c7f",
   "metadata": {},
   "source": [
    "## Packages Required"
   ]
  },
  {
   "cell_type": "code",
   "execution_count": 77,
   "id": "21448d3b",
   "metadata": {},
   "outputs": [],
   "source": [
    "import numpy as np\n",
    "import scipy.stats as stats\n",
    "import scipy.optimize as opt\n",
    "import sklearn\n",
    "import matplotlib.pyplot as plt"
   ]
  },
  {
   "cell_type": "markdown",
   "id": "226c0df0",
   "metadata": {},
   "source": [
    "# SVI Jump-Wings Parameterisation"
   ]
  },
  {
   "cell_type": "markdown",
   "id": "86108455",
   "metadata": {},
   "source": [
    "### Parameters"
   ]
  },
  {
   "cell_type": "code",
   "execution_count": 375,
   "id": "b3beab20",
   "metadata": {},
   "outputs": [],
   "source": [
    "class SVI():\n",
    "    def __init__(self, a, b, rho, sig, m):\n",
    "        self.volData = volData\n",
    "        self.a = a\n",
    "        self.m = m\n",
    "        self.b = b\n",
    "        self.rho = rho\n",
    "        self.sig = sig\n",
    "\n",
    "    def SVI_raw(self, volData, a, b, m, rho, sig):\n",
    "        self.daysExp = volData[0,:]/365\n",
    "        self.strike = volData[1,:]\n",
    "        totalVol = a + b * (\n",
    "            rho * (self.strike - m) + np.sqrt((self.strike - m) ** 2) + sig **2)\n",
    "        impliedVol = totalVol / self.daysExp\n",
    "        return impliedVol\n",
    "    \n",
    "    def SVI_JW(self, volData):\n",
    "        self.daysExp = volData[0,:]/365\n",
    "        self.strike = volData[1,:]\n",
    "        # raw Parameters\n",
    "        a = self.a\n",
    "        b = self.b\n",
    "        rho = self.rho\n",
    "        m = self.m\n",
    "        sig = self.sig\n",
    "        t = self.daysExp\n",
    "        \n",
    "        # SVI Jump-Wings\n",
    "        wt = (self.a + self.b * ( - self.rho * m + np.sqrt(self.m ** 2 + self.sig ** 2)))\n",
    "        vt = wt / (t)\n",
    "        phit = (1 / np.sqrt(wt)) * self.b / 2 * ( - self.m / np.sqrt(self.m ** 2 + self.sig ** 2) + self.rho)\n",
    "        pt = 1 / np.sqrt(wt) * self.b * (1 - self.rho)\n",
    "        ct = 1 / np.sqrt(wt) * self.b * ( 1+ self.rho)\n",
    "        vTilde = (self.a + self.b * self.sig * np.sqrt(1 - self.rho ** 2)) / (t)\n",
    "        \n",
    "        # Parameterisation\n",
    "        beta = self.rho - 2 * phit * np.sqrt(wt) / self.b\n",
    "        alpha = np.sign(beta) * np.sqrt(1/(beta ** 2) - 1)\n",
    "        \n",
    "        bNew = np.sqrt(wt) / 2 * (ct + pt)\n",
    "        rhoNew = 1 - pt * np.sqrt(wt)/b\n",
    "        mNew = ((vt - vTilde) * t)/(b *(\n",
    "            - rho + np.sign(alpha) * np.sqrt(1 + alpha ** 2) - alpha * np.sqrt(1 - rho ** 2)))\n",
    "        aNew = vTilde * t - b * sig * np.sqrt(1 - rho)        \n",
    "        if m == 0:\n",
    "            sigNew = (vt * t - a)/b\n",
    "        else:\n",
    "            sigNew = alpha * m\n",
    "            \n",
    "        impliedVol = self.SVI_raw(a = aNew, b = bNew, m = mNew, rho = rhoNew, sig = sigNew)\n",
    "        \n",
    "        return impliedVol\n",
    "        \n",
    "\n",
    "        "
   ]
  },
  {
   "cell_type": "code",
   "execution_count": 521,
   "id": "05634bd8",
   "metadata": {},
   "outputs": [],
   "source": [
    "def SVI_raw(volData, a, b, m, rho, sig):\n",
    "        daysExp = volData[0,:]\n",
    "        strike = volData[1,:]\n",
    "        totalVol = a + b * (\n",
    "            rho * (strike - m) + np.sqrt((strike - m) ** 2 + sig **2))\n",
    "        impliedVol = np.sqrt(totalVol / daysExp)\n",
    "        return impliedVol\n",
    "    \n",
    "def SVI_JW(volData, a, b, m, rho, sig):\n",
    "        daysExp = volData[0,:]\n",
    "        strike = volData[1,:]\n",
    "        t = daysExp\n",
    "        \n",
    "        # SVI Jump-Wings\n",
    "        wt = (a + b * ( - rho * m + np.sqrt(m ** 2 + sig ** 2)))\n",
    "        vt = wt / (t)\n",
    "        phit = (1 / np.sqrt(wt)) * b / 2 * ( - m / np.sqrt(m ** 2 + sig ** 2) + rho)\n",
    "        pt = 1 / np.sqrt(wt) * b * (1 - rho)\n",
    "        ct = 1 / np.sqrt(wt) * b * ( 1+ rho)\n",
    "        vTilde = (a + b * sig * np.sqrt(1 - rho ** 2)) / (t)\n",
    "        \n",
    "        # Parameterisation\n",
    "        beta = rho - 2 * phit * np.sqrt(wt) / b\n",
    "        alpha = np.sign(beta) * np.sqrt(1/(beta ** 2) - 1)\n",
    "        \n",
    "        bNew = np.sqrt(wt) / 2 * (ct + pt)\n",
    "        rhoNew = 1 - pt * np.sqrt(wt)/b\n",
    "        mNew = ((vt - vTilde) * t)/(b *(\n",
    "            - rho + np.sign(alpha) * np.sqrt(1 + alpha ** 2) - alpha * np.sqrt(1 - rho ** 2)))\n",
    "        aNew = vTilde * t - b * sig * np.sqrt(1 - rho)        \n",
    "        if m == 0:\n",
    "            sigNew = (vt * t - a)/b\n",
    "        else:\n",
    "            sigNew = alpha * m\n",
    "            \n",
    "        impliedVol = SVI_raw(volData = volData, a = aNew, b = bNew, m = mNew, rho = rhoNew, sig = sigNew)\n",
    "        \n",
    "        return impliedVol"
   ]
  },
  {
   "cell_type": "markdown",
   "id": "44c15a22",
   "metadata": {},
   "source": [
    "## Fitting the IV Curve"
   ]
  },
  {
   "cell_type": "code",
   "execution_count": 4,
   "id": "3b6f75c3",
   "metadata": {},
   "outputs": [],
   "source": [
    "priceData = np.load('joinData.pkl', allow_pickle = True)"
   ]
  },
  {
   "cell_type": "code",
   "execution_count": 522,
   "id": "5804c70b",
   "metadata": {},
   "outputs": [
    {
     "name": "stderr",
     "output_type": "stream",
     "text": [
      "/var/folders/qz/tbpst7xn3vx136h1lxlk2xhc0000gn/T/ipykernel_66297/2397014149.py:2: SettingWithCopyWarning: \n",
      "A value is trying to be set on a copy of a slice from a DataFrame.\n",
      "Try using .loc[row_indexer,col_indexer] = value instead\n",
      "\n",
      "See the caveats in the documentation: https://pandas.pydata.org/pandas-docs/stable/user_guide/indexing.html#returning-a-view-versus-a-copy\n",
      "  allData.strike = allData.strike/allData.SP500\n"
     ]
    },
    {
     "data": {
      "text/plain": [
       "DatetimeIndex(['2015-01-02', '2015-01-05', '2015-01-06', '2015-01-07',\n",
       "               '2015-01-08', '2015-01-09', '2015-01-12', '2015-01-13',\n",
       "               '2015-01-14', '2015-01-15', '2015-01-16', '2015-01-20',\n",
       "               '2015-01-21', '2015-01-22', '2015-01-23', '2015-01-26',\n",
       "               '2015-01-27', '2015-01-28', '2015-01-29', '2015-01-30'],\n",
       "              dtype='datetime64[ns]', name='Date', freq=None)"
      ]
     },
     "execution_count": 522,
     "metadata": {},
     "output_type": "execute_result"
    }
   ],
   "source": [
    "allData = priceData.loc['2015-01-02':'2015-02-01']\n",
    "allData.strike = allData.strike/allData.SP500\n",
    "numDates = allData.index.unique().size\n",
    "allData.index.unique()"
   ]
  },
  {
   "cell_type": "code",
   "execution_count": 523,
   "id": "ad1bee1f",
   "metadata": {},
   "outputs": [
    {
     "name": "stderr",
     "output_type": "stream",
     "text": [
      "/opt/anaconda3/envs/AQFseminar/lib/python3.9/site-packages/scipy/optimize/optimize.py:282: RuntimeWarning: Values in x were outside bounds during a minimize step, clipping to bounds\n",
      "  warnings.warn(\"Values in x were outside bounds during a \"\n",
      "/var/folders/qz/tbpst7xn3vx136h1lxlk2xhc0000gn/T/ipykernel_66297/3964179472.py:6: RuntimeWarning: invalid value encountered in sqrt\n",
      "  impliedVol = np.sqrt(totalVol / daysExp)\n",
      "/opt/anaconda3/envs/AQFseminar/lib/python3.9/site-packages/scipy/optimize/optimize.py:282: RuntimeWarning: Values in x were outside bounds during a minimize step, clipping to bounds\n",
      "  warnings.warn(\"Values in x were outside bounds during a \"\n",
      "/var/folders/qz/tbpst7xn3vx136h1lxlk2xhc0000gn/T/ipykernel_66297/3964179472.py:6: RuntimeWarning: invalid value encountered in sqrt\n",
      "  impliedVol = np.sqrt(totalVol / daysExp)\n",
      "/opt/anaconda3/envs/AQFseminar/lib/python3.9/site-packages/scipy/optimize/optimize.py:282: RuntimeWarning: Values in x were outside bounds during a minimize step, clipping to bounds\n",
      "  warnings.warn(\"Values in x were outside bounds during a \"\n",
      "/var/folders/qz/tbpst7xn3vx136h1lxlk2xhc0000gn/T/ipykernel_66297/3964179472.py:6: RuntimeWarning: invalid value encountered in sqrt\n",
      "  impliedVol = np.sqrt(totalVol / daysExp)\n",
      "/var/folders/qz/tbpst7xn3vx136h1lxlk2xhc0000gn/T/ipykernel_66297/3964179472.py:6: RuntimeWarning: invalid value encountered in sqrt\n",
      "  impliedVol = np.sqrt(totalVol / daysExp)\n",
      "/var/folders/qz/tbpst7xn3vx136h1lxlk2xhc0000gn/T/ipykernel_66297/3964179472.py:6: RuntimeWarning: invalid value encountered in sqrt\n",
      "  impliedVol = np.sqrt(totalVol / daysExp)\n",
      "/opt/anaconda3/envs/AQFseminar/lib/python3.9/site-packages/scipy/optimize/optimize.py:282: RuntimeWarning: Values in x were outside bounds during a minimize step, clipping to bounds\n",
      "  warnings.warn(\"Values in x were outside bounds during a \"\n",
      "/var/folders/qz/tbpst7xn3vx136h1lxlk2xhc0000gn/T/ipykernel_66297/3964179472.py:6: RuntimeWarning: invalid value encountered in sqrt\n",
      "  impliedVol = np.sqrt(totalVol / daysExp)\n",
      "/var/folders/qz/tbpst7xn3vx136h1lxlk2xhc0000gn/T/ipykernel_66297/3964179472.py:6: RuntimeWarning: invalid value encountered in sqrt\n",
      "  impliedVol = np.sqrt(totalVol / daysExp)\n",
      "/var/folders/qz/tbpst7xn3vx136h1lxlk2xhc0000gn/T/ipykernel_66297/3964179472.py:6: RuntimeWarning: invalid value encountered in sqrt\n",
      "  impliedVol = np.sqrt(totalVol / daysExp)\n",
      "/opt/anaconda3/envs/AQFseminar/lib/python3.9/site-packages/scipy/optimize/optimize.py:282: RuntimeWarning: Values in x were outside bounds during a minimize step, clipping to bounds\n",
      "  warnings.warn(\"Values in x were outside bounds during a \"\n",
      "/var/folders/qz/tbpst7xn3vx136h1lxlk2xhc0000gn/T/ipykernel_66297/3964179472.py:6: RuntimeWarning: invalid value encountered in sqrt\n",
      "  impliedVol = np.sqrt(totalVol / daysExp)\n",
      "/opt/anaconda3/envs/AQFseminar/lib/python3.9/site-packages/scipy/optimize/optimize.py:282: RuntimeWarning: Values in x were outside bounds during a minimize step, clipping to bounds\n",
      "  warnings.warn(\"Values in x were outside bounds during a \"\n",
      "/var/folders/qz/tbpst7xn3vx136h1lxlk2xhc0000gn/T/ipykernel_66297/3964179472.py:6: RuntimeWarning: invalid value encountered in sqrt\n",
      "  impliedVol = np.sqrt(totalVol / daysExp)\n",
      "/opt/anaconda3/envs/AQFseminar/lib/python3.9/site-packages/scipy/optimize/optimize.py:282: RuntimeWarning: Values in x were outside bounds during a minimize step, clipping to bounds\n",
      "  warnings.warn(\"Values in x were outside bounds during a \"\n",
      "/var/folders/qz/tbpst7xn3vx136h1lxlk2xhc0000gn/T/ipykernel_66297/3964179472.py:6: RuntimeWarning: invalid value encountered in sqrt\n",
      "  impliedVol = np.sqrt(totalVol / daysExp)\n",
      "/opt/anaconda3/envs/AQFseminar/lib/python3.9/site-packages/scipy/optimize/optimize.py:282: RuntimeWarning: Values in x were outside bounds during a minimize step, clipping to bounds\n",
      "  warnings.warn(\"Values in x were outside bounds during a \"\n",
      "/var/folders/qz/tbpst7xn3vx136h1lxlk2xhc0000gn/T/ipykernel_66297/3964179472.py:6: RuntimeWarning: invalid value encountered in sqrt\n",
      "  impliedVol = np.sqrt(totalVol / daysExp)\n",
      "/opt/anaconda3/envs/AQFseminar/lib/python3.9/site-packages/scipy/optimize/optimize.py:282: RuntimeWarning: Values in x were outside bounds during a minimize step, clipping to bounds\n",
      "  warnings.warn(\"Values in x were outside bounds during a \"\n",
      "/var/folders/qz/tbpst7xn3vx136h1lxlk2xhc0000gn/T/ipykernel_66297/3964179472.py:6: RuntimeWarning: invalid value encountered in sqrt\n",
      "  impliedVol = np.sqrt(totalVol / daysExp)\n",
      "/opt/anaconda3/envs/AQFseminar/lib/python3.9/site-packages/scipy/optimize/optimize.py:282: RuntimeWarning: Values in x were outside bounds during a minimize step, clipping to bounds\n",
      "  warnings.warn(\"Values in x were outside bounds during a \"\n",
      "/var/folders/qz/tbpst7xn3vx136h1lxlk2xhc0000gn/T/ipykernel_66297/3964179472.py:6: RuntimeWarning: invalid value encountered in sqrt\n",
      "  impliedVol = np.sqrt(totalVol / daysExp)\n",
      "/opt/anaconda3/envs/AQFseminar/lib/python3.9/site-packages/scipy/optimize/optimize.py:282: RuntimeWarning: Values in x were outside bounds during a minimize step, clipping to bounds\n",
      "  warnings.warn(\"Values in x were outside bounds during a \"\n",
      "/var/folders/qz/tbpst7xn3vx136h1lxlk2xhc0000gn/T/ipykernel_66297/3964179472.py:6: RuntimeWarning: invalid value encountered in sqrt\n",
      "  impliedVol = np.sqrt(totalVol / daysExp)\n",
      "/var/folders/qz/tbpst7xn3vx136h1lxlk2xhc0000gn/T/ipykernel_66297/3964179472.py:6: RuntimeWarning: invalid value encountered in sqrt\n",
      "  impliedVol = np.sqrt(totalVol / daysExp)\n",
      "/opt/anaconda3/envs/AQFseminar/lib/python3.9/site-packages/scipy/optimize/optimize.py:282: RuntimeWarning: Values in x were outside bounds during a minimize step, clipping to bounds\n",
      "  warnings.warn(\"Values in x were outside bounds during a \"\n",
      "/var/folders/qz/tbpst7xn3vx136h1lxlk2xhc0000gn/T/ipykernel_66297/3964179472.py:6: RuntimeWarning: invalid value encountered in sqrt\n",
      "  impliedVol = np.sqrt(totalVol / daysExp)\n",
      "/opt/anaconda3/envs/AQFseminar/lib/python3.9/site-packages/scipy/optimize/optimize.py:282: RuntimeWarning: Values in x were outside bounds during a minimize step, clipping to bounds\n",
      "  warnings.warn(\"Values in x were outside bounds during a \"\n",
      "/var/folders/qz/tbpst7xn3vx136h1lxlk2xhc0000gn/T/ipykernel_66297/3964179472.py:6: RuntimeWarning: invalid value encountered in sqrt\n",
      "  impliedVol = np.sqrt(totalVol / daysExp)\n"
     ]
    }
   ],
   "source": [
    "SVIparameters = np.zeros((numDates, 5))\n",
    "initVal = [0.4,0.1,0.1,-0.5,0.1]\n",
    "bnds = ((None, None), (0.0001, None), (None, None), (-0.9999, 0.9999), (0.0001, None))\n",
    "\n",
    "for i in range(numDates):\n",
    "    dateData = allData.loc[allData.index.unique()[i]]\n",
    "    dateData = dateData[dateData.daysExp.isin(dateData.daysExp.unique()[0:4])]\n",
    "\n",
    "    yData = dateData.filter(['IV'])\n",
    "    yData = np.array(yData).T[0]\n",
    "\n",
    "    xData = dateData.filter(['daysExp', 'strike'])\n",
    "    xData = np.array(xData).T\n",
    "    \n",
    "    def nonLinConstraintFun(x):\n",
    "        return (x[0] + x[1] * x[4] * np.sqrt(1 - x[3] **2))\n",
    "\n",
    "    nonLinearConstraint = opt.NonlinearConstraint(nonLinConstraintFun, 0, np.inf)\n",
    "    \n",
    "    cons = ({'type' : 'ineq', 'fun' : nonLinConstraint})\n",
    "        \n",
    "    ## Least Squares Minimisation\n",
    "    funcToMin = lambda x: sum((SVI_raw(xData, x[0], x[1], x[2], x[3], x[4]) - yData)**2)\n",
    "    fittedValues = opt.minimize(funcToMin, initVal, constraints = [nonLinearConstraint], bounds = bnds,\n",
    "                                method = 'SLSQP', options={'maxiter':10000})\n",
    "    SVIparameters[i,:] = fittedValues.x"
   ]
  },
  {
   "cell_type": "markdown",
   "id": "a415f9ca",
   "metadata": {},
   "source": [
    "We fit the curve via Least Squares with linear and non-linear contraints on the parameters.\n"
   ]
  },
  {
   "cell_type": "code",
   "execution_count": 524,
   "id": "9ef6e751",
   "metadata": {},
   "outputs": [
    {
     "data": {
      "text/plain": [
       "array([[-7.23316992e+01,  4.55136188e+02,  2.84653007e-01,\n",
       "        -9.02578870e-01,  3.71597012e-01],\n",
       "       [-7.73849230e+01,  6.80773561e+02,  2.10495551e-01,\n",
       "        -9.35539608e-01,  3.24009574e-01],\n",
       "       [-9.42071805e+01,  2.17780691e+02,  2.66021233e-01,\n",
       "        -7.61622861e-01,  6.71563116e-01],\n",
       "       [-2.12428475e+01,  4.78249862e+01,  1.02410705e+00,\n",
       "        -1.59597585e-01,  4.71123687e-01],\n",
       "       [-1.27942676e+01,  3.88195714e+01,  1.01579106e+00,\n",
       "        -1.92584672e-01,  3.57160852e-01],\n",
       "       [-1.06384855e+01,  3.60629700e+01,  1.06935298e+00,\n",
       "        -8.72446731e-02,  3.18556874e-01],\n",
       "       [-3.41768665e+02,  1.77408246e+02,  1.17745295e+00,\n",
       "         3.16214506e-02,  1.93219400e+00],\n",
       "       [-3.29818921e+01,  5.90461544e+01,  1.01730171e+00,\n",
       "        -1.43650520e-01,  5.79474520e-01],\n",
       "       [-6.90313042e+01,  8.09846854e+01,  1.00862228e+00,\n",
       "        -1.15123419e-01,  8.69807612e-01],\n",
       "       [-3.78779799e+01,  6.14391998e+01,  1.07032448e+00,\n",
       "        -7.71052211e-02,  6.34628212e-01],\n",
       "       [-3.50703926e+02,  7.08927902e+02, -7.23565414e-01,\n",
       "        -8.74453376e-01,  1.02231273e+00],\n",
       "       [-1.77332906e+01,  4.55775727e+01,  9.49235405e-01,\n",
       "        -3.17004936e-01,  4.27941120e-01],\n",
       "       [-3.05877267e+01,  6.15063731e+01,  8.60779041e-01,\n",
       "        -3.91158136e-01,  5.52534162e-01],\n",
       "       [-1.16683671e+01,  4.04825036e+01,  9.39369989e-01,\n",
       "        -3.59552384e-01,  3.23090638e-01],\n",
       "       [-5.30577316e+00,  3.03998737e+01,  9.63034359e-01,\n",
       "        -4.10383578e-01,  2.12245984e-01],\n",
       "       [-3.26423464e+00,  2.73611088e+01,  9.64378927e-01,\n",
       "        -4.63675594e-01,  1.54428028e-01],\n",
       "       [-6.10633353e+00,  3.35330266e+01,  9.48256572e-01,\n",
       "        -4.47681758e-01,  2.23533984e-01],\n",
       "       [-1.88864575e+02,  2.13788349e+02,  2.89268181e-01,\n",
       "        -5.86366774e-01,  1.09442855e+00],\n",
       "       [-3.88784872e+02,  3.09484600e+02, -9.58815660e-02,\n",
       "        -5.97996802e-01,  1.56962641e+00],\n",
       "       [-4.96274244e+00,  2.90448781e+01,  9.87439704e-01,\n",
       "        -3.69417818e-01,  2.09906719e-01]])"
      ]
     },
     "execution_count": 524,
     "metadata": {},
     "output_type": "execute_result"
    }
   ],
   "source": [
    "SVIparameters"
   ]
  },
  {
   "cell_type": "code",
   "execution_count": 526,
   "id": "f71920f3",
   "metadata": {},
   "outputs": [],
   "source": [
    "dateData = allData.loc[allData.index.unique()[0]]\n",
    "dateData = dateData[dateData.daysExp.isin(dateData.daysExp.unique()[0:4])]\n",
    "\n",
    "yData = dateData.filter(['IV'])\n",
    "yData = np.array(yData).T[0]\n",
    "\n",
    "xData = dateData.filter(['daysExp', 'strike'])\n",
    "xData = np.array(xData).T"
   ]
  },
  {
   "cell_type": "code",
   "execution_count": 527,
   "id": "e211d5e5",
   "metadata": {},
   "outputs": [
    {
     "name": "stderr",
     "output_type": "stream",
     "text": [
      "/opt/anaconda3/envs/AQFseminar/lib/python3.9/site-packages/scipy/optimize/optimize.py:282: RuntimeWarning: Values in x were outside bounds during a minimize step, clipping to bounds\n",
      "  warnings.warn(\"Values in x were outside bounds during a \"\n",
      "/var/folders/qz/tbpst7xn3vx136h1lxlk2xhc0000gn/T/ipykernel_66297/3964179472.py:6: RuntimeWarning: invalid value encountered in sqrt\n",
      "  impliedVol = np.sqrt(totalVol / daysExp)\n"
     ]
    },
    {
     "data": {
      "text/plain": [
       "     fun: 1.6531703229279624\n",
       "     jac: array([-3.09920311e-03, -3.77520919e-04, -2.45903730e-02, -4.15740579e-01,\n",
       "       -3.06297168e-01])\n",
       " message: 'Optimization terminated successfully'\n",
       "    nfev: 618\n",
       "     nit: 95\n",
       "    njev: 95\n",
       "  status: 0\n",
       " success: True\n",
       "       x: array([-7.14253663e+01,  5.99140674e+02,  2.38376938e-01, -9.30728684e-01,\n",
       "        3.28118091e-01])"
      ]
     },
     "execution_count": 527,
     "metadata": {},
     "output_type": "execute_result"
    }
   ],
   "source": [
    "# Constraints\n",
    "def nonLinConstraintFun(x):\n",
    "    return (x[0] + x[1] * x[4] * np.sqrt(1 - x[3] **2))\n",
    "\n",
    "nonLinearConstraint = opt.NonlinearConstraint(nonLinConstraintFun, 0, np.inf)\n",
    "bnds = ((None, None), (0.0001, None), (None, None), (-0.999, 0.999), (0.0001, None))\n",
    "\n",
    "#linConstraint = opt.LinearConstraint(np.eye(5),[-np.inf, 0, -np.inf, -0.9999, 0.00001],\n",
    "                               #      [np.inf, np.inf, np.inf, 0.9999, np.inf])\n",
    "\n",
    "## Initial Values\n",
    "initVal = [0.4,0.5,0.5,0.5,0.5]\n",
    "cons = ({'type' : 'ineq', 'fun' : nonLinConstraint})\n",
    "        \n",
    "## Least Squares Minimisation\n",
    "funcToMin = lambda x: sum((SVI_raw(xData, x[0], x[1], x[2], x[3], x[4]) - yData)**2)\n",
    "fittedValues = opt.minimize(funcToMin, initVal, constraints = [nonLinearConstraint], bounds = bnds,\n",
    "                            method = 'SLSQP', options={'maxiter':10000})\n",
    "fittedValues"
   ]
  },
  {
   "cell_type": "markdown",
   "id": "1c1daf20",
   "metadata": {},
   "source": [
    "## Test Plot for the fitting\n",
    "We will test using a slice of the surface"
   ]
  },
  {
   "cell_type": "code",
   "execution_count": 528,
   "id": "74fa2d35",
   "metadata": {},
   "outputs": [],
   "source": [
    "testSet = dateData[dateData['daysExp'] == dateData.daysExp.unique()[0]]\n"
   ]
  },
  {
   "cell_type": "code",
   "execution_count": 531,
   "id": "04ffba2a",
   "metadata": {},
   "outputs": [],
   "source": [
    "strikeAxis = np.linspace(0.3, 1.4, 1000).T\n",
    "timeValue = np.ones(1000) * dateData.daysExp.unique()[0]\n",
    "xDataTest = np.stack([timeValue, strikeAxis])\n",
    "[a, b, m, rho, sig] = fittedValues.x\n",
    "fittedCurve = SVI_raw(xDataTest, a, b, m, rho, sig) "
   ]
  },
  {
   "cell_type": "code",
   "execution_count": 532,
   "id": "a576befb",
   "metadata": {},
   "outputs": [
    {
     "data": {
      "text/plain": [
       "Text(0, 0.5, 'IV')"
      ]
     },
     "execution_count": 532,
     "metadata": {},
     "output_type": "execute_result"
    },
    {
     "data": {
      "image/png": "[encoded data removed]",
      "text/plain": [
       "<Figure size 432x288 with 1 Axes>"
      ]
     },
     "metadata": {
      "needs_background": "light"
     },
     "output_type": "display_data"
    }
   ],
   "source": [
    "plt.scatter(testSet.strike, testSet.IV)\n",
    "plt.plot(strikeAxis, fittedCurve, 'r-')\n",
    "plt.title('15 days to Expiry')\n",
    "plt.xlabel('Strike')\n",
    "plt.ylabel('IV')\n"
   ]
  },
  {
   "cell_type": "code",
   "execution_count": null,
   "id": "26863369",
   "metadata": {},
   "outputs": [],
   "source": []
  }
 ],
 "metadata": {
  "kernelspec": {
   "display_name": "Python 3 (ipykernel)",
   "language": "python",
   "name": "python3"
  },
  "language_info": {
   "codemirror_mode": {
    "name": "ipython",
    "version": 3
   },
   "file_extension": ".py",
   "mimetype": "text/x-python",
   "name": "python",
   "nbconvert_exporter": "python",
   "pygments_lexer": "ipython3",
   "version": "3.9.7"
  }
 },
 "nbformat": 4,
 "nbformat_minor": 5
}
