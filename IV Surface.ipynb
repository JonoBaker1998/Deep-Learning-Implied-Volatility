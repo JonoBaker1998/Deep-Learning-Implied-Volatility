{
 "cells": [
  {
   "cell_type": "markdown",
   "id": "fa148c7f",
   "metadata": {},
   "source": [
    "## Packages Required"
   ]
  },
  {
   "cell_type": "code",
   "execution_count": 1,
   "id": "21448d3b",
   "metadata": {},
   "outputs": [],
   "source": [
    "import numpy as np\n",
    "import scipy.stats as stats\n",
    "import sklearn\n",
    "import matplotlib.pyplot as plt"
   ]
  },
  {
   "cell_type": "markdown",
   "id": "226c0df0",
   "metadata": {},
   "source": [
    "# SVI Jump-Wings Parameterisation"
   ]
  },
  {
   "cell_type": "markdown",
   "id": "86108455",
   "metadata": {},
   "source": [
    "### Parameters"
   ]
  },
  {
   "cell_type": "code",
   "execution_count": 36,
   "id": "b3beab20",
   "metadata": {},
   "outputs": [],
   "source": [
    "class SVI():\n",
    "    def __init__(self, volData, a = 0.1, b = 0.1, rho = 0.1, sig = 0.1, m = 0.1):\n",
    "        self.volData = volData\n",
    "        self.a = a\n",
    "        self.m = m\n",
    "        self.b = b\n",
    "        self.rho = rho\n",
    "        self.sig = sig\n",
    "        \n",
    "    def SVI_raw(self, a, b, m, rho, sig):\n",
    "        totalVol = a + b * (\n",
    "            rho * (self.volData.strike - m) + np.sqrt((self.volData.strike - m) ** 2) + sig **2)\n",
    "        impliedVol = totalVol * self.volData.daysExp.astype('int')/250\n",
    "        return impliedVol\n",
    "    \n",
    "    def SVI_JW(self):\n",
    "        # raw Parameters\n",
    "        a = self.a\n",
    "        b = self.b\n",
    "        rho = self.rho\n",
    "        m = self.m\n",
    "        sig = self.sig\n",
    "        t = self.volData.daysExp.astype('int') / 250\n",
    "        \n",
    "        # SVI Jump-Wings\n",
    "        wt = (self.a + self.b * ( - self.rho * m + np.sqrt(self.m ** 2 + self.sig ** 2)))\n",
    "        vt = wt / (t)\n",
    "        phit = (1 / np.sqrt(wt)) * self.b / 2 * ( - self.m / np.sqrt(self.m ** 2 + self.sig ** 2) + self.rho)\n",
    "        pt = 1 / np.sqrt(wt) * self.b * (1 - self.rho)\n",
    "        ct = 1 / np.sqrt(wt) * self.b * ( 1+ self.rho)\n",
    "        vTilde = (self.a + self.b * self.sig * np.sqrt(1 - self.rho ** 2)) / (t)\n",
    "        \n",
    "        # Parameterisation\n",
    "        beta = self.rho - 2 * phit * np.sqrt(wt) / self.b\n",
    "        alpha = np.sign(beta) * np.sqrt(1/(beta ** 2) - 1)\n",
    "        \n",
    "        bNew = np.sqrt(wt) / 2 * (ct + pt)\n",
    "        rhoNew = 1 - pt * np.sqrt(wt)/b\n",
    "        mNew = ((vt - vTilde) * t)/(b *(\n",
    "            - rho + np.sign(alpha) * np.sqrt(1 + alpha ** 2) - alpha * np.sqrt(1 - rho ** 2)))\n",
    "        aNew = vTilde * t - b * sig * np.sqrt(1 - rho)        \n",
    "        if m == 0:\n",
    "            sigNew = (vt * t - a)/b\n",
    "        else:\n",
    "            sigNew = alpha * m\n",
    "            \n",
    "        impliedVol = self.SVI_raw(a = aNew, b = bNew, m = mNew, rho = rhoNew, sig = sigNew)\n",
    "        \n",
    "        return impliedVol\n",
    "        \n",
    "\n",
    "        "
   ]
  },
  {
   "cell_type": "markdown",
   "id": "44c15a22",
   "metadata": {},
   "source": [
    "## Test"
   ]
  },
  {
   "cell_type": "code",
   "execution_count": 48,
   "id": "3b6f75c3",
   "metadata": {},
   "outputs": [],
   "source": [
    "priceData = np.load('joinData.pkl', allow_pickle = True)"
   ]
  }
 ],
 "metadata": {
  "kernelspec": {
   "display_name": "Python 3 (ipykernel)",
   "language": "python",
   "name": "python3"
  },
  "language_info": {
   "codemirror_mode": {
    "name": "ipython",
    "version": 3
   },
   "file_extension": ".py",
   "mimetype": "text/x-python",
   "name": "python",
   "nbconvert_exporter": "python",
   "pygments_lexer": "ipython3",
   "version": "3.9.7"
  }
 },
 "nbformat": 4,
 "nbformat_minor": 5
}
