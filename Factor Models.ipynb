{
 "cells": [
  {
   "cell_type": "markdown",
   "id": "2c8b7fe1",
   "metadata": {},
   "source": [
    "## Packages"
   ]
  },
  {
   "cell_type": "code",
   "execution_count": 15,
   "id": "150b0f07",
   "metadata": {},
   "outputs": [],
   "source": [
    "import numpy as np\n",
    "import scipy\n",
    "import scipy.stats as stats\n",
    "import matplotlib.pyplot as plt\n"
   ]
  },
  {
   "cell_type": "markdown",
   "id": "60f4176a",
   "metadata": {},
   "source": [
    "## Hull-White Model"
   ]
  },
  {
   "cell_type": "code",
   "execution_count": 14,
   "id": "d7ae095e",
   "metadata": {},
   "outputs": [],
   "source": [
    "class HullWhiteModel():\n",
    "    def __init__(self, a, b, c, spotPrice, stockChange, delta, timeToMaturity):\n",
    "        self.a = a\n",
    "        self.b = b\n",
    "        self.c = c\n",
    "        self.spot = spotPrice\n",
    "        self.change = stockChange\n",
    "        self.delta = delta\n",
    "        self.ttm = timeToMaturity\n",
    "        \n",
    "    def expected_change_delta(self):\n",
    "        relativeChange = self.change / self.spot\n",
    "        quadraticTerm = self.a + self.b * self.delta + self.c * self.delta ** 2\n",
    "        return relativeChange * quadraticTerm / np.sqrt(self.ttm)\n"
   ]
  },
  {
   "cell_type": "markdown",
   "id": "2a68e89a",
   "metadata": {},
   "source": [
    "## Black-Scholes Model"
   ]
  },
  {
   "cell_type": "code",
   "execution_count": 26,
   "id": "3fc418f5",
   "metadata": {},
   "outputs": [],
   "source": [
    "class BlackScholesModel():\n",
    "    def __init__(self, spotPrice, strikePrice, volatility, timeToMaturity, riskFreeRate, dividendRate, marketPrice = 10):\n",
    "        self.spot = spotPrice\n",
    "        self.strike = strikePrice\n",
    "        self.vol = volatility\n",
    "        self.ttm = timeToMaturity\n",
    "        self.r = riskFreeRate\n",
    "        self.q = dividendRate\n",
    "        self.marketPrice = marketPrice\n",
    "        self.moneyInv = self.spot / self.strike\n",
    "        \n",
    "        self.d1 = (np.log(self.spot/self.strike) + (self.r + 0.5 * self.vol ** 2) * self.ttm)/(\n",
    "            self.vol * np.sqrt(self.ttm))\n",
    "        self.d2 = self.d1 - self.vol * np.sqrt(self.ttm)\n",
    "        \n",
    "        self.delta = stats.norm.cdf(self.d1, 0, 1)\n",
    "        \n",
    "    def price(self):\n",
    "        price = self.spot * self.delta - self.strike * np.exp(-self.r * self.ttm) * stats.norm.cdf(self.d2, 0 ,1)\n",
    "        return price\n",
    "    \n",
    "    def implied_vol(self):\n",
    "        price_func = lambda sig: (self.spot * stats.norm.cdf((np.log(self.moneyInv) + (self.r + 0.5 * sig ** 2))/ (sig * np.sqrt(self.ttm)))\n",
    "                                                            - self.strike * np.exp(-self.r * self.ttm) * \n",
    "                                                            stats.norm.cdf((np.log(self.moneyInv) + (self.r - 0.5 * sig ** 2))/ (sig * np.sqrt(self.ttm)))\n",
    "                                                            ) - self.marketPrice\n",
    "        impliedVol = scipy.optimize.fsolve(price_func, 0.1)\n",
    "        return impliedVol\n",
    "        "
   ]
  },
  {
   "cell_type": "code",
   "execution_count": 30,
   "id": "e44c9c65",
   "metadata": {},
   "outputs": [
    {
     "data": {
      "text/plain": [
       "[3.987761167674492, array([0.1])]"
      ]
     },
     "execution_count": 30,
     "metadata": {},
     "output_type": "execute_result"
    }
   ],
   "source": [
    "[BlackScholesModel(100, 100, 0.1, 1, 0.0, 0).price(),\n",
    "BlackScholesModel(100, 100, 0.1, 1, 0.0, 0, 3.987761167).implied_vol()]"
   ]
  }
 ],
 "metadata": {
  "kernelspec": {
   "display_name": "Python 3 (ipykernel)",
   "language": "python",
   "name": "python3"
  },
  "language_info": {
   "codemirror_mode": {
    "name": "ipython",
    "version": 3
   },
   "file_extension": ".py",
   "mimetype": "text/x-python",
   "name": "python",
   "nbconvert_exporter": "python",
   "pygments_lexer": "ipython3",
   "version": "3.9.7"
  }
 },
 "nbformat": 4,
 "nbformat_minor": 5
}
